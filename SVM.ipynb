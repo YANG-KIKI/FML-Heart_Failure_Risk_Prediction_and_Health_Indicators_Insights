{
 "cells": [
  {
   "cell_type": "markdown",
   "metadata": {},
   "source": [
    "# Predict a possible heart disease"
   ]
  },
  {
   "cell_type": "code",
   "execution_count": 1,
   "metadata": {},
   "outputs": [
    {
     "name": "stdout",
     "output_type": "stream",
     "text": [
      "Requirement already satisfied: scikit-learn in c:\\users\\lanxi\\appdata\\local\\programs\\python\\python311\\lib\\site-packages (1.5.0)\n",
      "Requirement already satisfied: numpy>=1.19.5 in c:\\users\\lanxi\\appdata\\local\\programs\\python\\python311\\lib\\site-packages (from scikit-learn) (1.26.4)\n",
      "Requirement already satisfied: scipy>=1.6.0 in c:\\users\\lanxi\\appdata\\local\\programs\\python\\python311\\lib\\site-packages (from scikit-learn) (1.12.0)\n",
      "Requirement already satisfied: joblib>=1.2.0 in c:\\users\\lanxi\\appdata\\local\\programs\\python\\python311\\lib\\site-packages (from scikit-learn) (1.4.2)\n",
      "Requirement already satisfied: threadpoolctl>=3.1.0 in c:\\users\\lanxi\\appdata\\local\\programs\\python\\python311\\lib\\site-packages (from scikit-learn) (3.5.0)\n"
     ]
    },
    {
     "name": "stderr",
     "output_type": "stream",
     "text": [
      "\n",
      "[notice] A new release of pip is available: 23.2.1 -> 24.3.1\n",
      "[notice] To update, run: python.exe -m pip install --upgrade pip\n"
     ]
    },
    {
     "name": "stdout",
     "output_type": "stream",
     "text": [
      "Requirement already satisfied: pandas in c:\\users\\lanxi\\appdata\\local\\programs\\python\\python311\\lib\\site-packages (2.2.2)\n",
      "Requirement already satisfied: numpy in c:\\users\\lanxi\\appdata\\local\\programs\\python\\python311\\lib\\site-packages (1.26.4)\n",
      "Requirement already satisfied: python-dateutil>=2.8.2 in c:\\users\\lanxi\\appdata\\local\\programs\\python\\python311\\lib\\site-packages (from pandas) (2.8.2)\n",
      "Requirement already satisfied: pytz>=2020.1 in c:\\users\\lanxi\\appdata\\local\\programs\\python\\python311\\lib\\site-packages (from pandas) (2024.1)\n",
      "Requirement already satisfied: tzdata>=2022.7 in c:\\users\\lanxi\\appdata\\local\\programs\\python\\python311\\lib\\site-packages (from pandas) (2024.1)\n",
      "Requirement already satisfied: six>=1.5 in c:\\users\\lanxi\\appdata\\local\\programs\\python\\python311\\lib\\site-packages (from python-dateutil>=2.8.2->pandas) (1.16.0)\n"
     ]
    },
    {
     "name": "stderr",
     "output_type": "stream",
     "text": [
      "\n",
      "[notice] A new release of pip is available: 23.2.1 -> 24.3.1\n",
      "[notice] To update, run: python.exe -m pip install --upgrade pip\n"
     ]
    },
    {
     "name": "stdout",
     "output_type": "stream",
     "text": [
      "Requirement already satisfied: matplotlib in c:\\users\\lanxi\\appdata\\local\\programs\\python\\python311\\lib\\site-packages (3.10.0)\n",
      "Requirement already satisfied: contourpy>=1.0.1 in c:\\users\\lanxi\\appdata\\local\\programs\\python\\python311\\lib\\site-packages (from matplotlib) (1.2.0)\n",
      "Requirement already satisfied: cycler>=0.10 in c:\\users\\lanxi\\appdata\\local\\programs\\python\\python311\\lib\\site-packages (from matplotlib) (0.12.1)\n",
      "Requirement already satisfied: fonttools>=4.22.0 in c:\\users\\lanxi\\appdata\\local\\programs\\python\\python311\\lib\\site-packages (from matplotlib) (4.48.1)\n",
      "Requirement already satisfied: kiwisolver>=1.3.1 in c:\\users\\lanxi\\appdata\\local\\programs\\python\\python311\\lib\\site-packages (from matplotlib) (1.4.5)\n",
      "Requirement already satisfied: numpy>=1.23 in c:\\users\\lanxi\\appdata\\local\\programs\\python\\python311\\lib\\site-packages (from matplotlib) (1.26.4)\n",
      "Requirement already satisfied: packaging>=20.0 in c:\\users\\lanxi\\appdata\\local\\programs\\python\\python311\\lib\\site-packages (from matplotlib) (23.1)\n",
      "Requirement already satisfied: pillow>=8 in c:\\users\\lanxi\\appdata\\local\\programs\\python\\python311\\lib\\site-packages (from matplotlib) (10.2.0)\n",
      "Requirement already satisfied: pyparsing>=2.3.1 in c:\\users\\lanxi\\appdata\\local\\programs\\python\\python311\\lib\\site-packages (from matplotlib) (3.1.1)\n",
      "Requirement already satisfied: python-dateutil>=2.7 in c:\\users\\lanxi\\appdata\\local\\programs\\python\\python311\\lib\\site-packages (from matplotlib) (2.8.2)\n",
      "Requirement already satisfied: six>=1.5 in c:\\users\\lanxi\\appdata\\local\\programs\\python\\python311\\lib\\site-packages (from python-dateutil>=2.7->matplotlib) (1.16.0)\n"
     ]
    },
    {
     "name": "stderr",
     "output_type": "stream",
     "text": [
      "\n",
      "[notice] A new release of pip is available: 23.2.1 -> 24.3.1\n",
      "[notice] To update, run: python.exe -m pip install --upgrade pip\n"
     ]
    }
   ],
   "source": [
    "!pip install scikit-learn\n",
    "!pip install pandas numpy\n",
    "!pip install --upgrade matplotlib"
   ]
  },
  {
   "cell_type": "code",
   "execution_count": 1,
   "metadata": {},
   "outputs": [],
   "source": [
    "# Import necessary libraries\n",
    "import pandas as pd\n",
    "import numpy as np\n",
    "from sklearn.model_selection import train_test_split, GridSearchCV, cross_val_score\n",
    "from sklearn.preprocessing import StandardScaler, OneHotEncoder\n",
    "from sklearn.pipeline import Pipeline, make_pipeline\n",
    "from sklearn.compose import ColumnTransformer\n",
    "from sklearn.impute import SimpleImputer\n",
    "from sklearn.svm import SVC\n",
    "from sklearn.metrics import recall_score, roc_auc_score, f1_score, accuracy_score, precision_score, classification_report, make_scorer\n",
    "from sklearn.metrics import classification_report\n",
    "from sklearn.metrics import log_loss "
   ]
  },
  {
   "cell_type": "markdown",
   "metadata": {},
   "source": [
    "## Load The Dataset"
   ]
  },
  {
   "cell_type": "code",
   "execution_count": 2,
   "metadata": {},
   "outputs": [],
   "source": [
    "# Load The Dataset\n",
    "data = pd.read_csv(r\"D:\\ML_Project\\heart.csv\")"
   ]
  },
  {
   "cell_type": "code",
   "execution_count": 3,
   "metadata": {},
   "outputs": [
    {
     "name": "stdout",
     "output_type": "stream",
     "text": [
      "   Age Sex ChestPainType  RestingBP  Cholesterol  FastingBS RestingECG  MaxHR  \\\n",
      "0   40   M           ATA        140          289          0     Normal    172   \n",
      "1   49   F           NAP        160          180          0     Normal    156   \n",
      "2   37   M           ATA        130          283          0         ST     98   \n",
      "3   48   F           ASY        138          214          0     Normal    108   \n",
      "4   54   M           NAP        150          195          0     Normal    122   \n",
      "\n",
      "  ExerciseAngina  Oldpeak ST_Slope  HeartDisease  \n",
      "0              N      0.0       Up             0  \n",
      "1              N      1.0     Flat             1  \n",
      "2              N      0.0       Up             0  \n",
      "3              Y      1.5     Flat             1  \n",
      "4              N      0.0       Up             0  \n"
     ]
    }
   ],
   "source": [
    "# Basic Data Overview\n",
    "print(data.head())"
   ]
  },
  {
   "cell_type": "code",
   "execution_count": 4,
   "metadata": {},
   "outputs": [
    {
     "name": "stdout",
     "output_type": "stream",
     "text": [
      "Missing values:\n",
      " Age               0\n",
      "Sex               0\n",
      "ChestPainType     0\n",
      "RestingBP         0\n",
      "Cholesterol       0\n",
      "FastingBS         0\n",
      "RestingECG        0\n",
      "MaxHR             0\n",
      "ExerciseAngina    0\n",
      "Oldpeak           0\n",
      "ST_Slope          0\n",
      "HeartDisease      0\n",
      "dtype: int64\n"
     ]
    }
   ],
   "source": [
    "# Checking for missing values\n",
    "print(\"Missing values:\\n\", data.isnull().sum())"
   ]
  },
  {
   "cell_type": "code",
   "execution_count": 5,
   "metadata": {},
   "outputs": [
    {
     "name": "stdout",
     "output_type": "stream",
     "text": [
      "0\n"
     ]
    }
   ],
   "source": [
    "# Check for duplicate data\n",
    "print(data.duplicated().sum())"
   ]
  },
  {
   "cell_type": "code",
   "execution_count": 6,
   "metadata": {},
   "outputs": [
    {
     "name": "stdout",
     "output_type": "stream",
     "text": [
      "<class 'pandas.core.frame.DataFrame'>\n",
      "RangeIndex: 918 entries, 0 to 917\n",
      "Data columns (total 12 columns):\n",
      " #   Column          Non-Null Count  Dtype  \n",
      "---  ------          --------------  -----  \n",
      " 0   Age             918 non-null    int64  \n",
      " 1   Sex             918 non-null    object \n",
      " 2   ChestPainType   918 non-null    object \n",
      " 3   RestingBP       918 non-null    int64  \n",
      " 4   Cholesterol     918 non-null    int64  \n",
      " 5   FastingBS       918 non-null    int64  \n",
      " 6   RestingECG      918 non-null    object \n",
      " 7   MaxHR           918 non-null    int64  \n",
      " 8   ExerciseAngina  918 non-null    object \n",
      " 9   Oldpeak         918 non-null    float64\n",
      " 10  ST_Slope        918 non-null    object \n",
      " 11  HeartDisease    918 non-null    int64  \n",
      "dtypes: float64(1), int64(6), object(5)\n",
      "memory usage: 86.2+ KB\n",
      "None\n"
     ]
    }
   ],
   "source": [
    "# View basic information\n",
    "print(data.info())"
   ]
  },
  {
   "cell_type": "markdown",
   "metadata": {},
   "source": [
    "## Feature Engineering"
   ]
  },
  {
   "cell_type": "code",
   "execution_count": 4,
   "metadata": {},
   "outputs": [],
   "source": [
    "# Define categorical and numerical columns\n",
    "categorical_cols = ['Sex', 'ChestPainType', 'FastingBS', 'RestingECG', 'ExerciseAngina', 'ST_Slope']\n",
    "numerical_cols = ['Age', 'RestingBP', 'Cholesterol', 'MaxHR', 'Oldpeak']"
   ]
  },
  {
   "cell_type": "code",
   "execution_count": 5,
   "metadata": {},
   "outputs": [],
   "source": [
    "# Convert FastingBS to string (categorical type)\n",
    "data['FastingBS'] = data['FastingBS'].astype(str)"
   ]
  },
  {
   "cell_type": "code",
   "execution_count": 6,
   "metadata": {},
   "outputs": [
    {
     "name": "stdout",
     "output_type": "stream",
     "text": [
      "object\n"
     ]
    }
   ],
   "source": [
    "# Verify the change\n",
    "print(data['FastingBS'].dtypes)"
   ]
  },
  {
   "cell_type": "code",
   "execution_count": 7,
   "metadata": {},
   "outputs": [],
   "source": [
    "# Initialize the OneHotEncoder\n",
    "encoder = OneHotEncoder(handle_unknown='ignore', sparse_output=False)\n",
    "\n",
    "# Apply one-hot encoding to the categorical columns\n",
    "encoded_categorical = encoder.fit_transform(data[categorical_cols])\n",
    "\n",
    "# Create a DataFrame with the encoded features\n",
    "encoded_df = pd.DataFrame(encoded_categorical, columns=encoder.get_feature_names_out(categorical_cols), index=data.index)\n",
    "\n",
    "# Drop the original categorical columns from the dataset\n",
    "data.drop(columns=categorical_cols, inplace=True)\n",
    "\n",
    "# Combine the encoded features with the original dataset\n",
    "data = pd.concat([data, encoded_df], axis=1)"
   ]
  },
  {
   "cell_type": "code",
   "execution_count": 8,
   "metadata": {},
   "outputs": [
    {
     "name": "stdout",
     "output_type": "stream",
     "text": [
      "Feature List: ['Age', 'RestingBP', 'Cholesterol', 'MaxHR', 'Oldpeak', 'Sex_F', 'Sex_M', 'ChestPainType_ASY', 'ChestPainType_ATA', 'ChestPainType_NAP', 'ChestPainType_TA', 'FastingBS_0', 'FastingBS_1', 'RestingECG_LVH', 'RestingECG_Normal', 'RestingECG_ST', 'ExerciseAngina_N', 'ExerciseAngina_Y', 'ST_Slope_Down', 'ST_Slope_Flat', 'ST_Slope_Up']\n"
     ]
    }
   ],
   "source": [
    "# Drop the target variable 'HeartDisease' and create a feature list\n",
    "feature_list = data.drop(columns=['HeartDisease']).columns.tolist()\n",
    "\n",
    "# Print the feature list\n",
    "print(\"Feature List:\", feature_list)"
   ]
  },
  {
   "cell_type": "code",
   "execution_count": 9,
   "metadata": {},
   "outputs": [],
   "source": [
    "# Initialize the standardization tool\n",
    "scaler = StandardScaler()\n",
    "\n",
    "# Standardize the numerical features\n",
    "data[numerical_cols] = scaler.fit_transform(data[numerical_cols])\n"
   ]
  },
  {
   "cell_type": "code",
   "execution_count": 10,
   "metadata": {},
   "outputs": [
    {
     "name": "stdout",
     "output_type": "stream",
     "text": [
      "\n",
      "Numerical columns mean and standard deviation after scaling:\n",
      "Means (should be approximately 0):\n",
      "Age           -1.083616e-16\n",
      "RestingBP      1.954380e-16\n",
      "Cholesterol    0.000000e+00\n",
      "MaxHR          4.953675e-16\n",
      "Oldpeak        1.238419e-16\n",
      "dtype: float64\n",
      "\n",
      "Standard deviations (should be approximately 1):\n",
      "Age            1.000545\n",
      "RestingBP      1.000545\n",
      "Cholesterol    1.000545\n",
      "MaxHR          1.000545\n",
      "Oldpeak        1.000545\n",
      "dtype: float64\n"
     ]
    }
   ],
   "source": [
    "# Verify the results of standardization\n",
    "print(\"\\nNumerical columns mean and standard deviation after scaling:\")\n",
    "print(\"Means (should be approximately 0):\")\n",
    "print(data[numerical_cols].mean())\n",
    "print(\"\\nStandard deviations (should be approximately 1):\")\n",
    "print(data[numerical_cols].std())\n"
   ]
  },
  {
   "cell_type": "code",
   "execution_count": 11,
   "metadata": {},
   "outputs": [
    {
     "name": "stdout",
     "output_type": "stream",
     "text": [
      "Final Feature List:\n",
      "['Age', 'RestingBP', 'Cholesterol', 'MaxHR', 'Oldpeak', 'Sex_F', 'Sex_M', 'ChestPainType_ASY', 'ChestPainType_ATA', 'ChestPainType_NAP', 'ChestPainType_TA', 'FastingBS_0', 'FastingBS_1', 'RestingECG_LVH', 'RestingECG_Normal', 'RestingECG_ST', 'ExerciseAngina_N', 'ExerciseAngina_Y', 'ST_Slope_Down', 'ST_Slope_Flat', 'ST_Slope_Up']\n",
      "Processed Training Data:\n",
      "        Age  RestingBP  Cholesterol     MaxHR   Oldpeak  HeartDisease  Sex_F  \\\n",
      "0 -1.433140   0.410909     0.825070  1.382928 -0.832432             0    0.0   \n",
      "1 -0.478484   1.491752    -0.171961  0.754157  0.105664             1    1.0   \n",
      "2 -1.751359  -0.129513     0.770188 -1.525138 -0.832432             0    0.0   \n",
      "3 -0.584556   0.302825     0.139040 -1.132156  0.574711             1    1.0   \n",
      "4  0.051881   0.951331    -0.034755 -0.581981 -0.832432             0    0.0   \n",
      "\n",
      "   Sex_M  ChestPainType_ASY  ChestPainType_ATA  ...  FastingBS_0  FastingBS_1  \\\n",
      "0    1.0                0.0                1.0  ...          1.0          0.0   \n",
      "1    0.0                0.0                0.0  ...          1.0          0.0   \n",
      "2    1.0                0.0                1.0  ...          1.0          0.0   \n",
      "3    0.0                1.0                0.0  ...          1.0          0.0   \n",
      "4    1.0                0.0                0.0  ...          1.0          0.0   \n",
      "\n",
      "   RestingECG_LVH  RestingECG_Normal  RestingECG_ST  ExerciseAngina_N  \\\n",
      "0             0.0                1.0            0.0               1.0   \n",
      "1             0.0                1.0            0.0               1.0   \n",
      "2             0.0                0.0            1.0               1.0   \n",
      "3             0.0                1.0            0.0               0.0   \n",
      "4             0.0                1.0            0.0               1.0   \n",
      "\n",
      "   ExerciseAngina_Y  ST_Slope_Down  ST_Slope_Flat  ST_Slope_Up  \n",
      "0               0.0            0.0            0.0          1.0  \n",
      "1               0.0            0.0            1.0          0.0  \n",
      "2               0.0            0.0            0.0          1.0  \n",
      "3               1.0            0.0            1.0          0.0  \n",
      "4               0.0            0.0            0.0          1.0  \n",
      "\n",
      "[5 rows x 22 columns]\n"
     ]
    }
   ],
   "source": [
    "# Final feature list\n",
    "print(\"Final Feature List:\")\n",
    "print(feature_list)\n",
    "# Display the first few rows of the processed data\n",
    "print(\"Processed Training Data:\")\n",
    "print(data.head())"
   ]
  },
  {
   "cell_type": "markdown",
   "metadata": {},
   "source": [
    "## SVM Model"
   ]
  },
  {
   "cell_type": "code",
   "execution_count": 20,
   "metadata": {},
   "outputs": [],
   "source": [
    "# Separate the target variable and features\n",
    "X = data[feature_list]  # Select feature columns based on feature_list\n",
    "y = data['HeartDisease']"
   ]
  },
  {
   "cell_type": "code",
   "execution_count": 21,
   "metadata": {},
   "outputs": [],
   "source": [
    "# Split the dataset into training and testing sets\n",
    "X_train, X_test, y_train, y_test = train_test_split(X, y, test_size=0.2, random_state=42, stratify=y)"
   ]
  },
  {
   "cell_type": "code",
   "execution_count": 22,
   "metadata": {},
   "outputs": [],
   "source": [
    "# Define the SVM model\n",
    "svm = SVC(probability=True)\n",
    "\n",
    "# Set up a pipeline with SVM\n",
    "pipeline = make_pipeline(svm)"
   ]
  },
  {
   "cell_type": "markdown",
   "metadata": {},
   "source": [
    "### case1 Grid Optimization with Recall as the Objective"
   ]
  },
  {
   "cell_type": "code",
   "execution_count": 23,
   "metadata": {},
   "outputs": [
    {
     "name": "stdout",
     "output_type": "stream",
     "text": [
      "Fitting 5 folds for each of 2880 candidates, totalling 14400 fits\n",
      "Best Parameters: {'svc__C': 0.01, 'svc__class_weight': None, 'svc__coef0': 0.0, 'svc__degree': 2, 'svc__gamma': 0.001, 'svc__kernel': 'rbf'}\n"
     ]
    }
   ],
   "source": [
    "param_grid = {\n",
    "    'svc__C': [0.01, 0.1, 1, 10, 100],  # Regularization parameter with finer granularity\n",
    "    'svc__gamma': [0.001, 0.01, 0.1, 1, 'scale', 'auto'],  # Wider range of gamma values\n",
    "    'svc__kernel': ['linear', 'rbf', 'poly', 'sigmoid'],  # Adding the sigmoid kernel\n",
    "    'svc__degree': [2, 3, 4],  # Polynomial kernel degree\n",
    "    'svc__coef0': [0.0, 0.1, 0.5, 1.0],  # Bias term for polynomial and sigmoid kernels\n",
    "    'svc__class_weight': [None, 'balanced']  # Handle class imbalance\n",
    "}\n",
    "\n",
    "grid_search = GridSearchCV(\n",
    "    estimator=pipeline,\n",
    "    param_grid=param_grid,\n",
    "    scoring=make_scorer(recall_score),  # Optimize recall as the evaluation metric\n",
    "    cv=5,  # 5-fold cross-validation\n",
    "    n_jobs=-1,  # Use all available CPU cores for parallel computation\n",
    "    verbose=2  # Display detailed progress of the grid search\n",
    ")\n",
    "\n",
    "# Perform grid search\n",
    "grid_search.fit(X_train, y_train)\n",
    "\n",
    "# Print the best parameters\n",
    "print(\"Best Parameters:\", grid_search.best_params_)\n"
   ]
  },
  {
   "cell_type": "code",
   "execution_count": 24,
   "metadata": {},
   "outputs": [
    {
     "name": "stdout",
     "output_type": "stream",
     "text": [
      "Cross-Validation Recall Scores: [1. 1. 1. 1. 1.]\n",
      "Mean Recall: 1.0\n",
      "\n",
      "Model Evaluation Metrics on Test Set:\n",
      "Recall: 1.0000\n",
      "ROC-AUC: 0.9227\n",
      "F1-Score: 0.7133\n",
      "Accuracy: 0.5543\n",
      "Precision: 0.5543\n",
      "\n",
      "Classification Report:\n",
      "              precision    recall  f1-score   support\n",
      "\n",
      "           0       0.00      0.00      0.00        82\n",
      "           1       0.55      1.00      0.71       102\n",
      "\n",
      "    accuracy                           0.55       184\n",
      "   macro avg       0.28      0.50      0.36       184\n",
      "weighted avg       0.31      0.55      0.40       184\n",
      "\n"
     ]
    },
    {
     "name": "stderr",
     "output_type": "stream",
     "text": [
      "c:\\Users\\lanxi\\AppData\\Local\\Programs\\Python\\Python311\\Lib\\site-packages\\sklearn\\metrics\\_classification.py:1517: UndefinedMetricWarning: Precision is ill-defined and being set to 0.0 in labels with no predicted samples. Use `zero_division` parameter to control this behavior.\n",
      "  _warn_prf(average, modifier, f\"{metric.capitalize()} is\", len(result))\n",
      "c:\\Users\\lanxi\\AppData\\Local\\Programs\\Python\\Python311\\Lib\\site-packages\\sklearn\\metrics\\_classification.py:1517: UndefinedMetricWarning: Precision is ill-defined and being set to 0.0 in labels with no predicted samples. Use `zero_division` parameter to control this behavior.\n",
      "  _warn_prf(average, modifier, f\"{metric.capitalize()} is\", len(result))\n",
      "c:\\Users\\lanxi\\AppData\\Local\\Programs\\Python\\Python311\\Lib\\site-packages\\sklearn\\metrics\\_classification.py:1517: UndefinedMetricWarning: Precision is ill-defined and being set to 0.0 in labels with no predicted samples. Use `zero_division` parameter to control this behavior.\n",
      "  _warn_prf(average, modifier, f\"{metric.capitalize()} is\", len(result))\n"
     ]
    }
   ],
   "source": [
    "# Retrieve the best model\n",
    "best_model = grid_search.best_estimator_\n",
    "\n",
    "# Evaluate the model using cross-validation\n",
    "cv_scores = cross_val_score(best_model, X_train, y_train, cv=5, scoring='recall')\n",
    "print(f\"Cross-Validation Recall Scores: {cv_scores}\")\n",
    "print(f\"Mean Recall: {cv_scores.mean()}\")\n",
    "\n",
    "# Train the model with the best parameters on the training set\n",
    "best_model.fit(X_train, y_train)\n",
    "\n",
    "# Make predictions on the test set\n",
    "y_pred = best_model.predict(X_test)\n",
    "\n",
    "# Calculate probabilities for ROC-AUC (probability=True in SVC is required)\n",
    "y_pred_proba = best_model.predict_proba(X_test)[:, 1]\n",
    "\n",
    "# Evaluate and print metrics\n",
    "recall = recall_score(y_test, y_pred)\n",
    "roc_auc = roc_auc_score(y_test, y_pred_proba)\n",
    "f1 = f1_score(y_test, y_pred)\n",
    "accuracy = accuracy_score(y_test, y_pred)\n",
    "precision = precision_score(y_test, y_pred)\n",
    "\n",
    "print(\"\\nModel Evaluation Metrics on Test Set:\")\n",
    "print(f\"Recall: {recall:.4f}\")\n",
    "print(f\"ROC-AUC: {roc_auc:.4f}\")\n",
    "print(f\"F1-Score: {f1:.4f}\")\n",
    "print(f\"Accuracy: {accuracy:.4f}\")\n",
    "print(f\"Precision: {precision:.4f}\")\n",
    "\n",
    "# Print the classification report for detailed performance\n",
    "print(\"\\nClassification Report:\")\n",
    "print(classification_report(y_test, y_pred))"
   ]
  },
  {
   "cell_type": "markdown",
   "metadata": {},
   "source": [
    "### Case 2 Grid Optimization with a Composite Scoring Metric"
   ]
  },
  {
   "cell_type": "code",
   "execution_count": 12,
   "metadata": {},
   "outputs": [],
   "source": [
    "# Separate the target variable and features\n",
    "X = data[feature_list]  # Select feature columns based on feature_list\n",
    "y = data['HeartDisease']"
   ]
  },
  {
   "cell_type": "code",
   "execution_count": 13,
   "metadata": {},
   "outputs": [],
   "source": [
    "# Split the dataset into training and testing sets\n",
    "X_train, X_test, y_train, y_test = train_test_split(X, y, test_size=0.2, random_state=42, stratify=y)"
   ]
  },
  {
   "cell_type": "code",
   "execution_count": 14,
   "metadata": {},
   "outputs": [],
   "source": [
    "# Define the SVM model\n",
    "svm = SVC(probability=True)\n",
    "\n",
    "# Set up a pipeline with SVM\n",
    "pipeline = make_pipeline(svm)"
   ]
  },
  {
   "cell_type": "code",
   "execution_count": 32,
   "metadata": {},
   "outputs": [],
   "source": [
    "# Define a custom scoring function\n",
    "def custom_score(y_true, y_pred, y_proba):\n",
    "    \"\"\"\n",
    "    Custom scoring function that combines Recall, F1-score, and ROC-AUC.\n",
    "    Args:\n",
    "        y_true (array): True labels\n",
    "        y_pred (array): Predicted labels\n",
    "        y_proba (array): Predicted probabilities (for ROC-AUC)\n",
    "    Returns:\n",
    "        float: Weighted combined score\n",
    "    \"\"\"\n",
    "    # Calculate individual metrics\n",
    "    recall = recall_score(y_true, y_pred)\n",
    "    f1 = f1_score(y_true, y_pred)\n",
    "    roc_auc = roc_auc_score(y_true, y_proba)\n",
    "\n",
    "    # Define weights for each metric\n",
    "    w_recall = 0.4\n",
    "    w_f1 = 0.3\n",
    "    w_roc_auc = 0.3\n",
    "\n",
    "    # Combine metrics with weights\n",
    "    combined_score = w_recall * recall + w_f1 * f1 + w_roc_auc * roc_auc\n",
    "    return combined_score\n",
    "\n",
    "# Custom scorer for GridSearchCV\n",
    "class WeightedScorer:\n",
    "    def __init__(self, estimator):\n",
    "        self.estimator = estimator\n",
    "\n",
    "    def __call__(self, estimator, X, y):\n",
    "        y_pred = estimator.predict(X)\n",
    "        y_proba = estimator.predict_proba(X)[:, 1]  # Use probabilities for ROC-AUC\n",
    "        return custom_score(y, y_pred, y_proba)\n",
    "\n",
    "# Create a scorer using the custom function\n",
    "custom_scorer = WeightedScorer(estimator=None)"
   ]
  },
  {
   "cell_type": "code",
   "execution_count": 33,
   "metadata": {},
   "outputs": [
    {
     "name": "stdout",
     "output_type": "stream",
     "text": [
      "Fitting 5 folds for each of 2880 candidates, totalling 14400 fits\n",
      "Best Parameters: {'svc__C': 0.1, 'svc__class_weight': None, 'svc__coef0': 0.1, 'svc__degree': 3, 'svc__gamma': 'scale', 'svc__kernel': 'poly'}\n",
      "Best Weighted Score: 0.9100864376554435\n"
     ]
    }
   ],
   "source": [
    "# Set up the parameter grid for SVM\n",
    "param_grid = {\n",
    "    'svc__C': [0.01, 0.1, 1, 10, 100],\n",
    "    'svc__gamma': [0.001, 0.01, 0.1, 1, 'scale', 'auto'],\n",
    "    'svc__kernel': ['linear', 'rbf', 'poly', 'sigmoid'],\n",
    "    'svc__degree': [2, 3, 4],\n",
    "    'svc__coef0': [0.0, 0.1, 0.5, 1.0],\n",
    "    'svc__class_weight': [None, 'balanced']\n",
    "}\n",
    "\n",
    "# Define the GridSearchCV with custom scoring\n",
    "grid_search = GridSearchCV(\n",
    "    estimator=pipeline,\n",
    "    param_grid=param_grid,\n",
    "    scoring=custom_scorer,  # Use the custom scorer\n",
    "    cv=5,  # 5-fold cross-validation\n",
    "    n_jobs=-1,  # Use all available CPU cores\n",
    "    verbose=2\n",
    ")\n",
    "\n",
    "# Perform grid search\n",
    "grid_search.fit(X_train, y_train)\n",
    "\n",
    "# Print the best parameters and best score\n",
    "print(\"Best Parameters:\", grid_search.best_params_)\n",
    "print(\"Best Weighted Score:\", grid_search.best_score_)"
   ]
  },
  {
   "cell_type": "code",
   "execution_count": 34,
   "metadata": {},
   "outputs": [
    {
     "name": "stdout",
     "output_type": "stream",
     "text": [
      "Cross-Validation Recall Scores: [0.93902439 0.92592593 0.91358025 0.87654321 0.91358025]\n",
      "Mean Recall: 0.9137308039747063\n",
      "\n",
      "Model Evaluation Metrics on Test Set:\n",
      "Recall: 0.9314\n",
      "ROC-AUC: 0.9364\n",
      "F1-Score: 0.9135\n",
      "Accuracy: 0.9022\n",
      "Precision: 0.8962\n",
      "\n",
      "Classification Report:\n",
      "              precision    recall  f1-score   support\n",
      "\n",
      "           0       0.91      0.87      0.89        82\n",
      "           1       0.90      0.93      0.91       102\n",
      "\n",
      "    accuracy                           0.90       184\n",
      "   macro avg       0.90      0.90      0.90       184\n",
      "weighted avg       0.90      0.90      0.90       184\n",
      "\n"
     ]
    }
   ],
   "source": [
    "# Retrieve the best model\n",
    "best_model = grid_search.best_estimator_\n",
    "\n",
    "# Evaluate the model using cross-validation\n",
    "cv_scores = cross_val_score(best_model, X_train, y_train, cv=5, scoring='recall')\n",
    "print(f\"Cross-Validation Recall Scores: {cv_scores}\")\n",
    "print(f\"Mean Recall: {cv_scores.mean()}\")\n",
    "\n",
    "# Train the model with the best parameters on the training set\n",
    "best_model.fit(X_train, y_train)\n",
    "\n",
    "# Make predictions on the test set\n",
    "y_pred = best_model.predict(X_test)\n",
    "\n",
    "# Calculate probabilities for ROC-AUC (probability=True in SVC is required)\n",
    "y_pred_proba = best_model.predict_proba(X_test)[:, 1]\n",
    "\n",
    "# Evaluate and print metrics\n",
    "recall = recall_score(y_test, y_pred)\n",
    "roc_auc = roc_auc_score(y_test, y_pred_proba)\n",
    "f1 = f1_score(y_test, y_pred)\n",
    "accuracy = accuracy_score(y_test, y_pred)\n",
    "precision = precision_score(y_test, y_pred)\n",
    "\n",
    "print(\"\\nModel Evaluation Metrics on Test Set:\")\n",
    "print(f\"Recall: {recall:.4f}\")\n",
    "print(f\"ROC-AUC: {roc_auc:.4f}\")\n",
    "print(f\"F1-Score: {f1:.4f}\")\n",
    "print(f\"Accuracy: {accuracy:.4f}\")\n",
    "print(f\"Precision: {precision:.4f}\")\n",
    "\n",
    "# Print the classification report for detailed performance\n",
    "print(\"\\nClassification Report:\")\n",
    "print(classification_report(y_test, y_pred))"
   ]
  },
  {
   "cell_type": "markdown",
   "metadata": {},
   "source": [
    "## Feature Importance Analysis  "
   ]
  },
  {
   "cell_type": "markdown",
   "metadata": {},
   "source": [
    "### LIME"
   ]
  },
  {
   "cell_type": "code",
   "execution_count": 36,
   "metadata": {},
   "outputs": [
    {
     "name": "stdout",
     "output_type": "stream",
     "text": [
      "Collecting lime\n",
      "  Downloading lime-0.2.0.1.tar.gz (275 kB)\n",
      "     ---------------------------------------- 0.0/275.7 kB ? eta -:--:--\n",
      "     ---- -------------------------------- 30.7/275.7 kB 660.6 kB/s eta 0:00:01\n",
      "     -------------------------------------- 275.7/275.7 kB 3.4 MB/s eta 0:00:00\n",
      "  Installing build dependencies: started\n",
      "  Installing build dependencies: finished with status 'done'\n",
      "  Getting requirements to build wheel: started\n",
      "  Getting requirements to build wheel: finished with status 'done'\n",
      "  Preparing metadata (pyproject.toml): started\n",
      "  Preparing metadata (pyproject.toml): finished with status 'done'\n",
      "Requirement already satisfied: matplotlib in c:\\users\\lanxi\\appdata\\local\\programs\\python\\python311\\lib\\site-packages (from lime) (3.10.0)\n",
      "Requirement already satisfied: numpy in c:\\users\\lanxi\\appdata\\local\\programs\\python\\python311\\lib\\site-packages (from lime) (1.26.4)\n",
      "Requirement already satisfied: scipy in c:\\users\\lanxi\\appdata\\local\\programs\\python\\python311\\lib\\site-packages (from lime) (1.12.0)\n",
      "Requirement already satisfied: tqdm in c:\\users\\lanxi\\appdata\\local\\programs\\python\\python311\\lib\\site-packages (from lime) (4.67.1)\n",
      "Requirement already satisfied: scikit-learn>=0.18 in c:\\users\\lanxi\\appdata\\local\\programs\\python\\python311\\lib\\site-packages (from lime) (1.5.0)\n",
      "Collecting scikit-image>=0.12 (from lime)\n",
      "  Obtaining dependency information for scikit-image>=0.12 from https://files.pythonhosted.org/packages/26/72/0653e3274310972bd053fc9271aa29df2de0d51ad2db2d47b199bf6070d5/scikit_image-0.25.0-cp311-cp311-win_amd64.whl.metadata\n",
      "  Downloading scikit_image-0.25.0-cp311-cp311-win_amd64.whl.metadata (14 kB)\n",
      "Collecting networkx>=3.0 (from scikit-image>=0.12->lime)\n",
      "  Obtaining dependency information for networkx>=3.0 from https://files.pythonhosted.org/packages/b9/54/dd730b32ea14ea797530a4479b2ed46a6fb250f682a9cfb997e968bf0261/networkx-3.4.2-py3-none-any.whl.metadata\n",
      "  Downloading networkx-3.4.2-py3-none-any.whl.metadata (6.3 kB)\n",
      "Requirement already satisfied: pillow>=10.1 in c:\\users\\lanxi\\appdata\\local\\programs\\python\\python311\\lib\\site-packages (from scikit-image>=0.12->lime) (10.2.0)\n",
      "Collecting imageio!=2.35.0,>=2.33 (from scikit-image>=0.12->lime)\n",
      "  Obtaining dependency information for imageio!=2.35.0,>=2.33 from https://files.pythonhosted.org/packages/5c/f9/f78e7f5ac8077c481bf6b43b8bc736605363034b3d5eb3ce8eb79f53f5f1/imageio-2.36.1-py3-none-any.whl.metadata\n",
      "  Downloading imageio-2.36.1-py3-none-any.whl.metadata (5.2 kB)\n",
      "Collecting tifffile>=2022.8.12 (from scikit-image>=0.12->lime)\n",
      "  Obtaining dependency information for tifffile>=2022.8.12 from https://files.pythonhosted.org/packages/d8/1e/76cbc758f6865a9da18001ac70d1a4154603b71e233f704401fc7d62493e/tifffile-2024.12.12-py3-none-any.whl.metadata\n",
      "  Downloading tifffile-2024.12.12-py3-none-any.whl.metadata (31 kB)\n",
      "Requirement already satisfied: packaging>=21 in c:\\users\\lanxi\\appdata\\local\\programs\\python\\python311\\lib\\site-packages (from scikit-image>=0.12->lime) (23.1)\n",
      "Collecting lazy-loader>=0.4 (from scikit-image>=0.12->lime)\n",
      "  Obtaining dependency information for lazy-loader>=0.4 from https://files.pythonhosted.org/packages/83/60/d497a310bde3f01cb805196ac61b7ad6dc5dcf8dce66634dc34364b20b4f/lazy_loader-0.4-py3-none-any.whl.metadata\n",
      "  Downloading lazy_loader-0.4-py3-none-any.whl.metadata (7.6 kB)\n",
      "Requirement already satisfied: joblib>=1.2.0 in c:\\users\\lanxi\\appdata\\local\\programs\\python\\python311\\lib\\site-packages (from scikit-learn>=0.18->lime) (1.4.2)\n",
      "Requirement already satisfied: threadpoolctl>=3.1.0 in c:\\users\\lanxi\\appdata\\local\\programs\\python\\python311\\lib\\site-packages (from scikit-learn>=0.18->lime) (3.5.0)\n",
      "Requirement already satisfied: contourpy>=1.0.1 in c:\\users\\lanxi\\appdata\\local\\programs\\python\\python311\\lib\\site-packages (from matplotlib->lime) (1.2.0)\n",
      "Requirement already satisfied: cycler>=0.10 in c:\\users\\lanxi\\appdata\\local\\programs\\python\\python311\\lib\\site-packages (from matplotlib->lime) (0.12.1)\n",
      "Requirement already satisfied: fonttools>=4.22.0 in c:\\users\\lanxi\\appdata\\local\\programs\\python\\python311\\lib\\site-packages (from matplotlib->lime) (4.48.1)\n",
      "Requirement already satisfied: kiwisolver>=1.3.1 in c:\\users\\lanxi\\appdata\\local\\programs\\python\\python311\\lib\\site-packages (from matplotlib->lime) (1.4.5)\n",
      "Requirement already satisfied: pyparsing>=2.3.1 in c:\\users\\lanxi\\appdata\\local\\programs\\python\\python311\\lib\\site-packages (from matplotlib->lime) (3.1.1)\n",
      "Requirement already satisfied: python-dateutil>=2.7 in c:\\users\\lanxi\\appdata\\local\\programs\\python\\python311\\lib\\site-packages (from matplotlib->lime) (2.8.2)\n",
      "Requirement already satisfied: colorama in c:\\users\\lanxi\\appdata\\local\\programs\\python\\python311\\lib\\site-packages (from tqdm->lime) (0.4.6)\n",
      "Requirement already satisfied: six>=1.5 in c:\\users\\lanxi\\appdata\\local\\programs\\python\\python311\\lib\\site-packages (from python-dateutil>=2.7->matplotlib->lime) (1.16.0)\n",
      "Downloading scikit_image-0.25.0-cp311-cp311-win_amd64.whl (12.8 MB)\n",
      "   ---------------------------------------- 0.0/12.8 MB ? eta -:--:--\n",
      "   - -------------------------------------- 0.3/12.8 MB 10.2 MB/s eta 0:00:02\n",
      "   -- ------------------------------------- 0.7/12.8 MB 8.3 MB/s eta 0:00:02\n",
      "   -- ------------------------------------- 0.9/12.8 MB 7.2 MB/s eta 0:00:02\n",
      "   --- ------------------------------------ 1.2/12.8 MB 6.8 MB/s eta 0:00:02\n",
      "   ---- ----------------------------------- 1.5/12.8 MB 6.8 MB/s eta 0:00:02\n",
      "   ----- ---------------------------------- 1.8/12.8 MB 6.8 MB/s eta 0:00:02\n",
      "   ------ --------------------------------- 2.2/12.8 MB 6.8 MB/s eta 0:00:02\n",
      "   ------- -------------------------------- 2.5/12.8 MB 6.9 MB/s eta 0:00:02\n",
      "   --------- ------------------------------ 2.9/12.8 MB 7.0 MB/s eta 0:00:02\n",
      "   ---------- ----------------------------- 3.3/12.8 MB 7.3 MB/s eta 0:00:02\n",
      "   ----------- ---------------------------- 3.8/12.8 MB 7.6 MB/s eta 0:00:02\n",
      "   ------------- -------------------------- 4.3/12.8 MB 7.8 MB/s eta 0:00:02\n",
      "   -------------- ------------------------- 4.7/12.8 MB 7.8 MB/s eta 0:00:02\n",
      "   --------------- ------------------------ 5.1/12.8 MB 7.9 MB/s eta 0:00:01\n",
      "   ----------------- ---------------------- 5.5/12.8 MB 8.0 MB/s eta 0:00:01\n",
      "   ------------------ --------------------- 5.9/12.8 MB 8.0 MB/s eta 0:00:01\n",
      "   -------------------- ------------------- 6.4/12.8 MB 8.2 MB/s eta 0:00:01\n",
      "   --------------------- ------------------ 6.8/12.8 MB 8.4 MB/s eta 0:00:01\n",
      "   ---------------------- ----------------- 7.3/12.8 MB 8.5 MB/s eta 0:00:01\n",
      "   ------------------------ --------------- 7.8/12.8 MB 8.5 MB/s eta 0:00:01\n",
      "   ------------------------ --------------- 8.0/12.8 MB 8.3 MB/s eta 0:00:01\n",
      "   ------------------------- -------------- 8.0/12.8 MB 8.0 MB/s eta 0:00:01\n",
      "   -------------------------- ------------- 8.5/12.8 MB 8.0 MB/s eta 0:00:01\n",
      "   --------------------------- ------------ 8.8/12.8 MB 8.0 MB/s eta 0:00:01\n",
      "   ---------------------------- ----------- 9.2/12.8 MB 8.1 MB/s eta 0:00:01\n",
      "   ------------------------------ --------- 9.6/12.8 MB 8.1 MB/s eta 0:00:01\n",
      "   ------------------------------- -------- 10.2/12.8 MB 8.1 MB/s eta 0:00:01\n",
      "   --------------------------------- ------ 10.7/12.8 MB 8.3 MB/s eta 0:00:01\n",
      "   ---------------------------------- ----- 11.2/12.8 MB 8.6 MB/s eta 0:00:01\n",
      "   ----------------------------------- ---- 11.5/12.8 MB 8.6 MB/s eta 0:00:01\n",
      "   ------------------------------------- -- 12.0/12.8 MB 8.8 MB/s eta 0:00:01\n",
      "   ---------------------------------------  12.5/12.8 MB 9.0 MB/s eta 0:00:01\n",
      "   ---------------------------------------  12.8/12.8 MB 9.1 MB/s eta 0:00:01\n",
      "   ---------------------------------------- 12.8/12.8 MB 9.0 MB/s eta 0:00:00\n",
      "Downloading imageio-2.36.1-py3-none-any.whl (315 kB)\n",
      "   ---------------------------------------- 0.0/315.4 kB ? eta -:--:--\n",
      "   ---------------------------------------- 315.4/315.4 kB 9.8 MB/s eta 0:00:00\n",
      "Downloading lazy_loader-0.4-py3-none-any.whl (12 kB)\n",
      "Downloading networkx-3.4.2-py3-none-any.whl (1.7 MB)\n",
      "   ---------------------------------------- 0.0/1.7 MB ? eta -:--:--\n",
      "   ------------ --------------------------- 0.6/1.7 MB 11.5 MB/s eta 0:00:01\n",
      "   ---------------------- ----------------- 1.0/1.7 MB 10.2 MB/s eta 0:00:01\n",
      "   ----------------------------------- ---- 1.5/1.7 MB 10.9 MB/s eta 0:00:01\n",
      "   ---------------------------------------  1.7/1.7 MB 10.8 MB/s eta 0:00:01\n",
      "   ---------------------------------------- 1.7/1.7 MB 8.4 MB/s eta 0:00:00\n",
      "Downloading tifffile-2024.12.12-py3-none-any.whl (227 kB)\n",
      "   ---------------------------------------- 0.0/227.5 kB ? eta -:--:--\n",
      "   ---------------------------------------- 227.5/227.5 kB 6.8 MB/s eta 0:00:00\n",
      "Building wheels for collected packages: lime\n",
      "  Building wheel for lime (pyproject.toml): started\n",
      "  Building wheel for lime (pyproject.toml): finished with status 'done'\n",
      "  Created wheel for lime: filename=lime-0.2.0.1-py3-none-any.whl size=283886 sha256=07f58faf604f4ca5c06e5ae71ae3abe4a95ec51ecc337f9f3f01bf86123bb771\n",
      "  Stored in directory: c:\\users\\lanxi\\appdata\\local\\pip\\cache\\wheels\\85\\fa\\a3\\9c2d44c9f3cd77cf4e533b58900b2bf4487f2a17e8ec212a3d\n",
      "Successfully built lime\n",
      "Installing collected packages: tifffile, networkx, lazy-loader, imageio, scikit-image, lime\n",
      "Successfully installed imageio-2.36.1 lazy-loader-0.4 lime-0.2.0.1 networkx-3.4.2 scikit-image-0.25.0 tifffile-2024.12.12\n",
      "Note: you may need to restart the kernel to use updated packages.\n"
     ]
    },
    {
     "name": "stderr",
     "output_type": "stream",
     "text": [
      "\n",
      "[notice] A new release of pip is available: 23.2.1 -> 24.3.1\n",
      "[notice] To update, run: python.exe -m pip install --upgrade pip\n"
     ]
    }
   ],
   "source": [
    "pip install lime\n"
   ]
  },
  {
   "cell_type": "code",
   "execution_count": null,
   "metadata": {},
   "outputs": [
    {
     "name": "stderr",
     "output_type": "stream",
     "text": [
      "c:\\Users\\lanxi\\AppData\\Local\\Programs\\Python\\Python311\\Lib\\site-packages\\sklearn\\base.py:493: UserWarning: X does not have valid feature names, but SVC was fitted with feature names\n",
      "  warnings.warn(\n",
      "c:\\Users\\lanxi\\AppData\\Local\\Programs\\Python\\Python311\\Lib\\site-packages\\sklearn\\base.py:493: UserWarning: X does not have valid feature names, but SVC was fitted with feature names\n",
      "  warnings.warn(\n",
      "c:\\Users\\lanxi\\AppData\\Local\\Programs\\Python\\Python311\\Lib\\site-packages\\sklearn\\base.py:493: UserWarning: X does not have valid feature names, but SVC was fitted with feature names\n",
      "  warnings.warn(\n",
      "c:\\Users\\lanxi\\AppData\\Local\\Programs\\Python\\Python311\\Lib\\site-packages\\sklearn\\base.py:493: UserWarning: X does not have valid feature names, but SVC was fitted with feature names\n",
      "  warnings.warn(\n",
      "c:\\Users\\lanxi\\AppData\\Local\\Programs\\Python\\Python311\\Lib\\site-packages\\sklearn\\base.py:493: UserWarning: X does not have valid feature names, but SVC was fitted with feature names\n",
      "  warnings.warn(\n",
      "c:\\Users\\lanxi\\AppData\\Local\\Programs\\Python\\Python311\\Lib\\site-packages\\sklearn\\base.py:493: UserWarning: X does not have valid feature names, but SVC was fitted with feature names\n",
      "  warnings.warn(\n",
      "c:\\Users\\lanxi\\AppData\\Local\\Programs\\Python\\Python311\\Lib\\site-packages\\sklearn\\base.py:493: UserWarning: X does not have valid feature names, but SVC was fitted with feature names\n",
      "  warnings.warn(\n",
      "c:\\Users\\lanxi\\AppData\\Local\\Programs\\Python\\Python311\\Lib\\site-packages\\sklearn\\base.py:493: UserWarning: X does not have valid feature names, but SVC was fitted with feature names\n",
      "  warnings.warn(\n",
      "c:\\Users\\lanxi\\AppData\\Local\\Programs\\Python\\Python311\\Lib\\site-packages\\sklearn\\base.py:493: UserWarning: X does not have valid feature names, but SVC was fitted with feature names\n",
      "  warnings.warn(\n",
      "c:\\Users\\lanxi\\AppData\\Local\\Programs\\Python\\Python311\\Lib\\site-packages\\sklearn\\base.py:493: UserWarning: X does not have valid feature names, but SVC was fitted with feature names\n",
      "  warnings.warn(\n",
      "c:\\Users\\lanxi\\AppData\\Local\\Programs\\Python\\Python311\\Lib\\site-packages\\sklearn\\base.py:493: UserWarning: X does not have valid feature names, but SVC was fitted with feature names\n",
      "  warnings.warn(\n",
      "c:\\Users\\lanxi\\AppData\\Local\\Programs\\Python\\Python311\\Lib\\site-packages\\sklearn\\base.py:493: UserWarning: X does not have valid feature names, but SVC was fitted with feature names\n",
      "  warnings.warn(\n",
      "c:\\Users\\lanxi\\AppData\\Local\\Programs\\Python\\Python311\\Lib\\site-packages\\sklearn\\base.py:493: UserWarning: X does not have valid feature names, but SVC was fitted with feature names\n",
      "  warnings.warn(\n",
      "c:\\Users\\lanxi\\AppData\\Local\\Programs\\Python\\Python311\\Lib\\site-packages\\sklearn\\base.py:493: UserWarning: X does not have valid feature names, but SVC was fitted with feature names\n",
      "  warnings.warn(\n",
      "c:\\Users\\lanxi\\AppData\\Local\\Programs\\Python\\Python311\\Lib\\site-packages\\sklearn\\base.py:493: UserWarning: X does not have valid feature names, but SVC was fitted with feature names\n",
      "  warnings.warn(\n",
      "c:\\Users\\lanxi\\AppData\\Local\\Programs\\Python\\Python311\\Lib\\site-packages\\sklearn\\base.py:493: UserWarning: X does not have valid feature names, but SVC was fitted with feature names\n",
      "  warnings.warn(\n",
      "c:\\Users\\lanxi\\AppData\\Local\\Programs\\Python\\Python311\\Lib\\site-packages\\sklearn\\base.py:493: UserWarning: X does not have valid feature names, but SVC was fitted with feature names\n",
      "  warnings.warn(\n",
      "c:\\Users\\lanxi\\AppData\\Local\\Programs\\Python\\Python311\\Lib\\site-packages\\sklearn\\base.py:493: UserWarning: X does not have valid feature names, but SVC was fitted with feature names\n",
      "  warnings.warn(\n",
      "c:\\Users\\lanxi\\AppData\\Local\\Programs\\Python\\Python311\\Lib\\site-packages\\sklearn\\base.py:493: UserWarning: X does not have valid feature names, but SVC was fitted with feature names\n",
      "  warnings.warn(\n",
      "c:\\Users\\lanxi\\AppData\\Local\\Programs\\Python\\Python311\\Lib\\site-packages\\sklearn\\base.py:493: UserWarning: X does not have valid feature names, but SVC was fitted with feature names\n",
      "  warnings.warn(\n",
      "c:\\Users\\lanxi\\AppData\\Local\\Programs\\Python\\Python311\\Lib\\site-packages\\sklearn\\base.py:493: UserWarning: X does not have valid feature names, but SVC was fitted with feature names\n",
      "  warnings.warn(\n",
      "c:\\Users\\lanxi\\AppData\\Local\\Programs\\Python\\Python311\\Lib\\site-packages\\sklearn\\base.py:493: UserWarning: X does not have valid feature names, but SVC was fitted with feature names\n",
      "  warnings.warn(\n",
      "c:\\Users\\lanxi\\AppData\\Local\\Programs\\Python\\Python311\\Lib\\site-packages\\sklearn\\base.py:493: UserWarning: X does not have valid feature names, but SVC was fitted with feature names\n",
      "  warnings.warn(\n",
      "c:\\Users\\lanxi\\AppData\\Local\\Programs\\Python\\Python311\\Lib\\site-packages\\sklearn\\base.py:493: UserWarning: X does not have valid feature names, but SVC was fitted with feature names\n",
      "  warnings.warn(\n",
      "c:\\Users\\lanxi\\AppData\\Local\\Programs\\Python\\Python311\\Lib\\site-packages\\sklearn\\base.py:493: UserWarning: X does not have valid feature names, but SVC was fitted with feature names\n",
      "  warnings.warn(\n",
      "c:\\Users\\lanxi\\AppData\\Local\\Programs\\Python\\Python311\\Lib\\site-packages\\sklearn\\base.py:493: UserWarning: X does not have valid feature names, but SVC was fitted with feature names\n",
      "  warnings.warn(\n",
      "c:\\Users\\lanxi\\AppData\\Local\\Programs\\Python\\Python311\\Lib\\site-packages\\sklearn\\base.py:493: UserWarning: X does not have valid feature names, but SVC was fitted with feature names\n",
      "  warnings.warn(\n",
      "c:\\Users\\lanxi\\AppData\\Local\\Programs\\Python\\Python311\\Lib\\site-packages\\sklearn\\base.py:493: UserWarning: X does not have valid feature names, but SVC was fitted with feature names\n",
      "  warnings.warn(\n",
      "c:\\Users\\lanxi\\AppData\\Local\\Programs\\Python\\Python311\\Lib\\site-packages\\sklearn\\base.py:493: UserWarning: X does not have valid feature names, but SVC was fitted with feature names\n",
      "  warnings.warn(\n",
      "c:\\Users\\lanxi\\AppData\\Local\\Programs\\Python\\Python311\\Lib\\site-packages\\sklearn\\base.py:493: UserWarning: X does not have valid feature names, but SVC was fitted with feature names\n",
      "  warnings.warn(\n",
      "c:\\Users\\lanxi\\AppData\\Local\\Programs\\Python\\Python311\\Lib\\site-packages\\sklearn\\base.py:493: UserWarning: X does not have valid feature names, but SVC was fitted with feature names\n",
      "  warnings.warn(\n",
      "c:\\Users\\lanxi\\AppData\\Local\\Programs\\Python\\Python311\\Lib\\site-packages\\sklearn\\base.py:493: UserWarning: X does not have valid feature names, but SVC was fitted with feature names\n",
      "  warnings.warn(\n",
      "c:\\Users\\lanxi\\AppData\\Local\\Programs\\Python\\Python311\\Lib\\site-packages\\sklearn\\base.py:493: UserWarning: X does not have valid feature names, but SVC was fitted with feature names\n",
      "  warnings.warn(\n",
      "c:\\Users\\lanxi\\AppData\\Local\\Programs\\Python\\Python311\\Lib\\site-packages\\sklearn\\base.py:493: UserWarning: X does not have valid feature names, but SVC was fitted with feature names\n",
      "  warnings.warn(\n",
      "c:\\Users\\lanxi\\AppData\\Local\\Programs\\Python\\Python311\\Lib\\site-packages\\sklearn\\base.py:493: UserWarning: X does not have valid feature names, but SVC was fitted with feature names\n",
      "  warnings.warn(\n",
      "c:\\Users\\lanxi\\AppData\\Local\\Programs\\Python\\Python311\\Lib\\site-packages\\sklearn\\base.py:493: UserWarning: X does not have valid feature names, but SVC was fitted with feature names\n",
      "  warnings.warn(\n",
      "c:\\Users\\lanxi\\AppData\\Local\\Programs\\Python\\Python311\\Lib\\site-packages\\sklearn\\base.py:493: UserWarning: X does not have valid feature names, but SVC was fitted with feature names\n",
      "  warnings.warn(\n",
      "c:\\Users\\lanxi\\AppData\\Local\\Programs\\Python\\Python311\\Lib\\site-packages\\sklearn\\base.py:493: UserWarning: X does not have valid feature names, but SVC was fitted with feature names\n",
      "  warnings.warn(\n",
      "c:\\Users\\lanxi\\AppData\\Local\\Programs\\Python\\Python311\\Lib\\site-packages\\sklearn\\base.py:493: UserWarning: X does not have valid feature names, but SVC was fitted with feature names\n",
      "  warnings.warn(\n",
      "c:\\Users\\lanxi\\AppData\\Local\\Programs\\Python\\Python311\\Lib\\site-packages\\sklearn\\base.py:493: UserWarning: X does not have valid feature names, but SVC was fitted with feature names\n",
      "  warnings.warn(\n",
      "c:\\Users\\lanxi\\AppData\\Local\\Programs\\Python\\Python311\\Lib\\site-packages\\sklearn\\base.py:493: UserWarning: X does not have valid feature names, but SVC was fitted with feature names\n",
      "  warnings.warn(\n",
      "c:\\Users\\lanxi\\AppData\\Local\\Programs\\Python\\Python311\\Lib\\site-packages\\sklearn\\base.py:493: UserWarning: X does not have valid feature names, but SVC was fitted with feature names\n",
      "  warnings.warn(\n",
      "c:\\Users\\lanxi\\AppData\\Local\\Programs\\Python\\Python311\\Lib\\site-packages\\sklearn\\base.py:493: UserWarning: X does not have valid feature names, but SVC was fitted with feature names\n",
      "  warnings.warn(\n",
      "c:\\Users\\lanxi\\AppData\\Local\\Programs\\Python\\Python311\\Lib\\site-packages\\sklearn\\base.py:493: UserWarning: X does not have valid feature names, but SVC was fitted with feature names\n",
      "  warnings.warn(\n",
      "c:\\Users\\lanxi\\AppData\\Local\\Programs\\Python\\Python311\\Lib\\site-packages\\sklearn\\base.py:493: UserWarning: X does not have valid feature names, but SVC was fitted with feature names\n",
      "  warnings.warn(\n",
      "c:\\Users\\lanxi\\AppData\\Local\\Programs\\Python\\Python311\\Lib\\site-packages\\sklearn\\base.py:493: UserWarning: X does not have valid feature names, but SVC was fitted with feature names\n",
      "  warnings.warn(\n",
      "c:\\Users\\lanxi\\AppData\\Local\\Programs\\Python\\Python311\\Lib\\site-packages\\sklearn\\base.py:493: UserWarning: X does not have valid feature names, but SVC was fitted with feature names\n",
      "  warnings.warn(\n",
      "c:\\Users\\lanxi\\AppData\\Local\\Programs\\Python\\Python311\\Lib\\site-packages\\sklearn\\base.py:493: UserWarning: X does not have valid feature names, but SVC was fitted with feature names\n",
      "  warnings.warn(\n",
      "c:\\Users\\lanxi\\AppData\\Local\\Programs\\Python\\Python311\\Lib\\site-packages\\sklearn\\base.py:493: UserWarning: X does not have valid feature names, but SVC was fitted with feature names\n",
      "  warnings.warn(\n",
      "c:\\Users\\lanxi\\AppData\\Local\\Programs\\Python\\Python311\\Lib\\site-packages\\sklearn\\base.py:493: UserWarning: X does not have valid feature names, but SVC was fitted with feature names\n",
      "  warnings.warn(\n"
     ]
    },
    {
     "data": {
      "image/png": "[encoded data removed]",
      "text/plain": [
       "<Figure size 1000x600 with 1 Axes>"
      ]
     },
     "metadata": {},
     "output_type": "display_data"
    },
    {
     "name": "stdout",
     "output_type": "stream",
     "text": [
      "\n",
      "Top 10 Important Features:\n",
      "                            Feature  Importance\n",
      "0             ST_Slope_Flat <= 0.00   -0.117951\n",
      "1               ST_Slope_Up <= 0.00    0.107525\n",
      "2        0.00 < ST_Slope_Up <= 1.00   -0.099546\n",
      "3      0.00 < ST_Slope_Flat <= 1.00    0.085681\n",
      "4          ExerciseAngina_Y <= 0.00   -0.060500\n",
      "5         ChestPainType_ASY <= 0.00   -0.058516\n",
      "6                  Oldpeak <= -0.83   -0.054224\n",
      "7   0.00 < ExerciseAngina_N <= 1.00   -0.050472\n",
      "8                    Oldpeak > 0.57    0.048254\n",
      "9  0.00 < ChestPainType_ASY <= 1.00    0.046683\n"
     ]
    }
   ],
   "source": [
    "import random\n",
    "from lime.lime_tabular import LimeTabularExplainer\n",
    "import matplotlib.pyplot as plt\n",
    "import numpy as np\n",
    "import pandas as pd\n",
    "\n",
    "# Ensure the model supports probability prediction\n",
    "if not hasattr(best_model, \"predict_proba\"):\n",
    "    raise AttributeError(\"The SVC model must have `probability=True` enabled during training.\")\n",
    "\n",
    "# Create a LIME explainer\n",
    "lime_explainer = LimeTabularExplainer(\n",
    "    training_data=np.array(X_train),  # Define feature distribution using training data\n",
    "    feature_names=X.columns.tolist(),  # Feature names\n",
    "    class_names=['No Disease', 'Disease'],  # Class names\n",
    "    mode='classification'  # Model mode is classification\n",
    ")\n",
    "\n",
    "# Target analysis: Randomly sample from the test set\n",
    "num_samples = 50  # Number of samples to analyze\n",
    "# Ensure samples cover the class distribution, separate random sampling\n",
    "positive_indices = X_test[y_test == 1].index.tolist()  # Indices of samples in the \"Disease\" class\n",
    "negative_indices = X_test[y_test == 0].index.tolist()  # Indices of samples in the \"No Disease\" class\n",
    "\n",
    "# Random sampling from each class to ensure balance\n",
    "num_positive_samples = num_samples // 2\n",
    "num_negative_samples = num_samples - num_positive_samples\n",
    "positive_samples = random.sample(positive_indices, min(len(positive_indices), num_positive_samples))\n",
    "negative_samples = random.sample(negative_indices, min(len(negative_indices), num_negative_samples))\n",
    "\n",
    "# Merge sample indices\n",
    "sample_indices = positive_samples + negative_samples\n",
    "\n",
    "# Initialize a dictionary to store feature importance\n",
    "feature_importances = {}\n",
    "\n",
    "# Iterate over randomly sampled test instances\n",
    "for instance_index in sample_indices:\n",
    "    # Retrieve a single instance\n",
    "    instance = X_test.loc[instance_index].values  # Use .loc to access specific index sample\n",
    "    \n",
    "    # Generate explanations\n",
    "    lime_exp = lime_explainer.explain_instance(\n",
    "        data_row=instance,\n",
    "        predict_fn=best_model.predict_proba  # Use the model's probability prediction function\n",
    "    )\n",
    "    \n",
    "    # Retrieve each feature's contribution to importance\n",
    "    for feature, importance in lime_exp.as_list(label=1):  # Focus on the \"Disease\" class\n",
    "        if feature not in feature_importances:\n",
    "            feature_importances[feature] = 0\n",
    "        feature_importances[feature] += importance\n",
    "\n",
    "# Average feature importance\n",
    "feature_importances = {k: v / num_samples for k, v in feature_importances.items()}\n",
    "\n",
    "# Sort by importance\n",
    "sorted_features = sorted(feature_importances.items(), key=lambda x: abs(x[1]), reverse=True)\n",
    "\n",
    "# Plot feature importance bar chart\n",
    "features = [item[0] for item in sorted_features]\n",
    "importances = [item[1] for item in sorted_features]\n",
    "\n",
    "plt.figure(figsize=(10, 6))\n",
    "plt.barh(features, importances, color='skyblue')\n",
    "plt.xlabel('Average Importance')\n",
    "plt.ylabel('Feature')\n",
    "plt.title('Feature Importances (LIME)')\n",
    "plt.gca().invert_yaxis()  # Reverse Y-axis to display importance from high to low\n",
    "plt.tight_layout()\n",
    "\n",
    "# Display the plot\n",
    "plt.show()\n",
    "\n",
    "# Output as a DataFrame for easier viewing\n",
    "importance_df = pd.DataFrame(sorted_features, columns=[\"Feature\", \"Importance\"])\n",
    "print(\"\\nTop 10 Important Features:\")\n",
    "print(importance_df)\n",
    "\n",
    "\n"
   ]
  }
 ],
 "metadata": {
  "kernelspec": {
   "display_name": "Python 3",
   "language": "python",
   "name": "python3"
  },
  "language_info": {
   "codemirror_mode": {
    "name": "ipython",
    "version": 3
   },
   "file_extension": ".py",
   "mimetype": "text/x-python",
   "name": "python",
   "nbconvert_exporter": "python",
   "pygments_lexer": "ipython3",
   "version": "3.11.5"
  }
 },
 "nbformat": 4,
 "nbformat_minor": 2
}

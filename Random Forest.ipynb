{
 "cells": [
  {
   "cell_type": "markdown",
   "metadata": {},
   "source": [
    "# Predict a possible heart disease"
   ]
  },
  {
   "cell_type": "code",
   "execution_count": 2,
   "metadata": {},
   "outputs": [
    {
     "name": "stdout",
     "output_type": "stream",
     "text": [
      "Requirement already satisfied: scikit-learn in /opt/anaconda3/lib/python3.12/site-packages (1.5.0)\n",
      "Requirement already satisfied: numpy>=1.19.5 in /opt/anaconda3/lib/python3.12/site-packages (from scikit-learn) (1.26.4)\n",
      "Requirement already satisfied: scipy>=1.6.0 in /opt/anaconda3/lib/python3.12/site-packages (from scikit-learn) (1.13.1)\n",
      "Requirement already satisfied: joblib>=1.2.0 in /opt/anaconda3/lib/python3.12/site-packages (from scikit-learn) (1.4.2)\n",
      "Requirement already satisfied: threadpoolctl>=3.1.0 in /opt/anaconda3/lib/python3.12/site-packages (from scikit-learn) (3.5.0)\n",
      "Requirement already satisfied: pandas in /opt/anaconda3/lib/python3.12/site-packages (2.2.3)\n",
      "Requirement already satisfied: numpy in /opt/anaconda3/lib/python3.12/site-packages (1.26.4)\n",
      "Requirement already satisfied: python-dateutil>=2.8.2 in /opt/anaconda3/lib/python3.12/site-packages (from pandas) (2.9.0.post0)\n",
      "Requirement already satisfied: pytz>=2020.1 in /opt/anaconda3/lib/python3.12/site-packages (from pandas) (2024.1)\n",
      "Requirement already satisfied: tzdata>=2022.7 in /opt/anaconda3/lib/python3.12/site-packages (from pandas) (2023.3)\n",
      "Requirement already satisfied: six>=1.5 in /opt/anaconda3/lib/python3.12/site-packages (from python-dateutil>=2.8.2->pandas) (1.16.0)\n",
      "Requirement already satisfied: matplotlib in /opt/anaconda3/lib/python3.12/site-packages (3.10.0)\n",
      "Requirement already satisfied: contourpy>=1.0.1 in /opt/anaconda3/lib/python3.12/site-packages (from matplotlib) (1.2.0)\n",
      "Requirement already satisfied: cycler>=0.10 in /opt/anaconda3/lib/python3.12/site-packages (from matplotlib) (0.11.0)\n",
      "Requirement already satisfied: fonttools>=4.22.0 in /opt/anaconda3/lib/python3.12/site-packages (from matplotlib) (4.51.0)\n",
      "Requirement already satisfied: kiwisolver>=1.3.1 in /opt/anaconda3/lib/python3.12/site-packages (from matplotlib) (1.4.4)\n",
      "Requirement already satisfied: numpy>=1.23 in /opt/anaconda3/lib/python3.12/site-packages (from matplotlib) (1.26.4)\n",
      "Requirement already satisfied: packaging>=20.0 in /opt/anaconda3/lib/python3.12/site-packages (from matplotlib) (23.2)\n",
      "Requirement already satisfied: pillow>=8 in /opt/anaconda3/lib/python3.12/site-packages (from matplotlib) (10.3.0)\n",
      "Requirement already satisfied: pyparsing>=2.3.1 in /opt/anaconda3/lib/python3.12/site-packages (from matplotlib) (3.0.9)\n",
      "Requirement already satisfied: python-dateutil>=2.7 in /opt/anaconda3/lib/python3.12/site-packages (from matplotlib) (2.9.0.post0)\n",
      "Requirement already satisfied: six>=1.5 in /opt/anaconda3/lib/python3.12/site-packages (from python-dateutil>=2.7->matplotlib) (1.16.0)\n"
     ]
    }
   ],
   "source": [
    "!pip install scikit-learn\n",
    "!pip install pandas numpy\n",
    "!pip install --upgrade matplotlib"
   ]
  },
  {
   "cell_type": "code",
   "execution_count": 3,
   "metadata": {},
   "outputs": [],
   "source": [
    "# Import necessary libraries\n",
    "import pandas as pd\n",
    "import numpy as np\n",
    "from sklearn.model_selection import train_test_split\n",
    "from sklearn.preprocessing import StandardScaler, OneHotEncoder\n",
    "from sklearn.compose import ColumnTransformer\n",
    "from sklearn.pipeline import Pipeline\n",
    "from sklearn.impute import SimpleImputer\n",
    "from sklearn.ensemble import RandomForestClassifier\n",
    "from sklearn.metrics import accuracy_score, classification_report\n",
    "from sklearn.metrics import log_loss  "
   ]
  },
  {
   "cell_type": "markdown",
   "metadata": {},
   "source": [
    "## Load The Dataset"
   ]
  },
  {
   "cell_type": "code",
   "execution_count": 4,
   "metadata": {},
   "outputs": [],
   "source": [
    "# Load The Dataset\n",
    "data = pd.read_csv(r\"/Users/kk_yang/Desktop/M2S1/Fundamental of Machine Learning/Machine Learning Heart Disease/heart.csv\")"
   ]
  },
  {
   "cell_type": "code",
   "execution_count": 5,
   "metadata": {},
   "outputs": [
    {
     "name": "stdout",
     "output_type": "stream",
     "text": [
      "   Age Sex ChestPainType  RestingBP  Cholesterol  FastingBS RestingECG  MaxHR  \\\n",
      "0   40   M           ATA        140          289          0     Normal    172   \n",
      "1   49   F           NAP        160          180          0     Normal    156   \n",
      "2   37   M           ATA        130          283          0         ST     98   \n",
      "3   48   F           ASY        138          214          0     Normal    108   \n",
      "4   54   M           NAP        150          195          0     Normal    122   \n",
      "\n",
      "  ExerciseAngina  Oldpeak ST_Slope  HeartDisease  \n",
      "0              N      0.0       Up             0  \n",
      "1              N      1.0     Flat             1  \n",
      "2              N      0.0       Up             0  \n",
      "3              Y      1.5     Flat             1  \n",
      "4              N      0.0       Up             0  \n"
     ]
    }
   ],
   "source": [
    "# Basic Data Overview\n",
    "print(data.head())"
   ]
  },
  {
   "cell_type": "code",
   "execution_count": 6,
   "metadata": {},
   "outputs": [
    {
     "name": "stdout",
     "output_type": "stream",
     "text": [
      "Missing values:\n",
      " Age               0\n",
      "Sex               0\n",
      "ChestPainType     0\n",
      "RestingBP         0\n",
      "Cholesterol       0\n",
      "FastingBS         0\n",
      "RestingECG        0\n",
      "MaxHR             0\n",
      "ExerciseAngina    0\n",
      "Oldpeak           0\n",
      "ST_Slope          0\n",
      "HeartDisease      0\n",
      "dtype: int64\n"
     ]
    }
   ],
   "source": [
    "# Checking for missing values\n",
    "print(\"Missing values:\\n\", data.isnull().sum())"
   ]
  },
  {
   "cell_type": "code",
   "execution_count": 7,
   "metadata": {},
   "outputs": [
    {
     "name": "stdout",
     "output_type": "stream",
     "text": [
      "0\n"
     ]
    }
   ],
   "source": [
    "# Check for duplicate data\n",
    "print(data.duplicated().sum())"
   ]
  },
  {
   "cell_type": "code",
   "execution_count": 8,
   "metadata": {},
   "outputs": [
    {
     "name": "stdout",
     "output_type": "stream",
     "text": [
      "<class 'pandas.core.frame.DataFrame'>\n",
      "RangeIndex: 918 entries, 0 to 917\n",
      "Data columns (total 12 columns):\n",
      " #   Column          Non-Null Count  Dtype  \n",
      "---  ------          --------------  -----  \n",
      " 0   Age             918 non-null    int64  \n",
      " 1   Sex             918 non-null    object \n",
      " 2   ChestPainType   918 non-null    object \n",
      " 3   RestingBP       918 non-null    int64  \n",
      " 4   Cholesterol     918 non-null    int64  \n",
      " 5   FastingBS       918 non-null    int64  \n",
      " 6   RestingECG      918 non-null    object \n",
      " 7   MaxHR           918 non-null    int64  \n",
      " 8   ExerciseAngina  918 non-null    object \n",
      " 9   Oldpeak         918 non-null    float64\n",
      " 10  ST_Slope        918 non-null    object \n",
      " 11  HeartDisease    918 non-null    int64  \n",
      "dtypes: float64(1), int64(6), object(5)\n",
      "memory usage: 86.2+ KB\n",
      "None\n"
     ]
    }
   ],
   "source": [
    "# View basic information\n",
    "print(data.info())"
   ]
  },
  {
   "cell_type": "markdown",
   "metadata": {},
   "source": [
    "## Feature Engineering"
   ]
  },
  {
   "cell_type": "code",
   "execution_count": 9,
   "metadata": {},
   "outputs": [],
   "source": [
    "# Define categorical and numerical columns\n",
    "categorical_cols = ['Sex', 'ChestPainType', 'FastingBS', 'RestingECG', 'ExerciseAngina', 'ST_Slope']\n",
    "numerical_cols = ['Age', 'RestingBP', 'Cholesterol', 'MaxHR', 'Oldpeak']"
   ]
  },
  {
   "cell_type": "code",
   "execution_count": 10,
   "metadata": {},
   "outputs": [],
   "source": [
    "# Convert FastingBS to string (categorical type)\n",
    "data['FastingBS'] = data['FastingBS'].astype(str)"
   ]
  },
  {
   "cell_type": "code",
   "execution_count": 11,
   "metadata": {},
   "outputs": [
    {
     "name": "stdout",
     "output_type": "stream",
     "text": [
      "object\n"
     ]
    }
   ],
   "source": [
    "# Verify the change\n",
    "print(data['FastingBS'].dtypes)"
   ]
  },
  {
   "cell_type": "code",
   "execution_count": 12,
   "metadata": {},
   "outputs": [],
   "source": [
    "# Initialize the OneHotEncoder\n",
    "encoder = OneHotEncoder(handle_unknown='ignore', sparse_output=False)\n",
    "\n",
    "# Apply one-hot encoding to the categorical columns\n"
   ]
  },
  {
   "cell_type": "code",
   "execution_count": null,
   "metadata": {},
   "outputs": [],
   "source": [
    "encoded_categorical = encoder.fit_transform(data[categorical_cols])\n",
    "\n",
    "# Create a DataFrame with the encoded features\n",
    "encoded_df = pd.DataFrame(encoded_categorical, columns=encoder.get_feature_names_out(categorical_cols), index=data.index)\n",
    "\n",
    "# Drop the original categorical columns from the dataset\n",
    "data.drop(columns=categorical_cols, inplace=True)\n",
    "\n",
    "# Combine the encoded features with the original dataset\n",
    "data = pd.concat([data, encoded_df], axis=1)"
   ]
  },
  {
   "cell_type": "code",
   "execution_count": 13,
   "metadata": {},
   "outputs": [
    {
     "name": "stdout",
     "output_type": "stream",
     "text": [
      "Feature List: ['Age', 'RestingBP', 'Cholesterol', 'MaxHR', 'Oldpeak', 'Sex_F', 'Sex_M', 'ChestPainType_ASY', 'ChestPainType_ATA', 'ChestPainType_NAP', 'ChestPainType_TA', 'FastingBS_0', 'FastingBS_1', 'RestingECG_LVH', 'RestingECG_Normal', 'RestingECG_ST', 'ExerciseAngina_N', 'ExerciseAngina_Y', 'ST_Slope_Down', 'ST_Slope_Flat', 'ST_Slope_Up']\n"
     ]
    }
   ],
   "source": [
    "# Drop the target variable 'HeartDisease' and create a feature list\n",
    "feature_list = data.drop(columns=['HeartDisease']).columns.tolist()\n",
    "\n",
    "# Print the feature list\n",
    "print(\"Feature List:\", feature_list)"
   ]
  },
  {
   "cell_type": "code",
   "execution_count": 14,
   "metadata": {},
   "outputs": [],
   "source": [
    "# Initialize the standardization tool\n",
    "scaler = StandardScaler()\n",
    "\n",
    "# Standardize the numerical features\n",
    "data[numerical_cols] = scaler.fit_transform(data[numerical_cols])\n"
   ]
  },
  {
   "cell_type": "code",
   "execution_count": 15,
   "metadata": {},
   "outputs": [
    {
     "name": "stdout",
     "output_type": "stream",
     "text": [
      "\n",
      "Numerical columns mean and standard deviation after scaling:\n",
      "Means (should be approximately 0):\n",
      "Age           -1.083616e-16\n",
      "RestingBP      1.954380e-16\n",
      "Cholesterol    0.000000e+00\n",
      "MaxHR          4.953675e-16\n",
      "Oldpeak        1.238419e-16\n",
      "dtype: float64\n",
      "\n",
      "Standard deviations (should be approximately 1):\n",
      "Age            1.000545\n",
      "RestingBP      1.000545\n",
      "Cholesterol    1.000545\n",
      "MaxHR          1.000545\n",
      "Oldpeak        1.000545\n",
      "dtype: float64\n"
     ]
    }
   ],
   "source": [
    "# Verify the results of standardization\n",
    "print(\"\\nNumerical columns mean and standard deviation after scaling:\")\n",
    "print(\"Means (should be approximately 0):\")\n",
    "print(data[numerical_cols].mean())\n",
    "print(\"\\nStandard deviations (should be approximately 1):\")\n",
    "print(data[numerical_cols].std())\n"
   ]
  },
  {
   "cell_type": "code",
   "execution_count": 16,
   "metadata": {},
   "outputs": [
    {
     "name": "stdout",
     "output_type": "stream",
     "text": [
      "Final Feature List:\n",
      "['Age', 'RestingBP', 'Cholesterol', 'MaxHR', 'Oldpeak', 'Sex_F', 'Sex_M', 'ChestPainType_ASY', 'ChestPainType_ATA', 'ChestPainType_NAP', 'ChestPainType_TA', 'FastingBS_0', 'FastingBS_1', 'RestingECG_LVH', 'RestingECG_Normal', 'RestingECG_ST', 'ExerciseAngina_N', 'ExerciseAngina_Y', 'ST_Slope_Down', 'ST_Slope_Flat', 'ST_Slope_Up']\n",
      "Processed Training Data:\n",
      "        Age  RestingBP  Cholesterol     MaxHR   Oldpeak  HeartDisease  Sex_F  \\\n",
      "0 -1.433140   0.410909     0.825070  1.382928 -0.832432             0    0.0   \n",
      "1 -0.478484   1.491752    -0.171961  0.754157  0.105664             1    1.0   \n",
      "2 -1.751359  -0.129513     0.770188 -1.525138 -0.832432             0    0.0   \n",
      "3 -0.584556   0.302825     0.139040 -1.132156  0.574711             1    1.0   \n",
      "4  0.051881   0.951331    -0.034755 -0.581981 -0.832432             0    0.0   \n",
      "\n",
      "   Sex_M  ChestPainType_ASY  ChestPainType_ATA  ...  FastingBS_0  FastingBS_1  \\\n",
      "0    1.0                0.0                1.0  ...          1.0          0.0   \n",
      "1    0.0                0.0                0.0  ...          1.0          0.0   \n",
      "2    1.0                0.0                1.0  ...          1.0          0.0   \n",
      "3    0.0                1.0                0.0  ...          1.0          0.0   \n",
      "4    1.0                0.0                0.0  ...          1.0          0.0   \n",
      "\n",
      "   RestingECG_LVH  RestingECG_Normal  RestingECG_ST  ExerciseAngina_N  \\\n",
      "0             0.0                1.0            0.0               1.0   \n",
      "1             0.0                1.0            0.0               1.0   \n",
      "2             0.0                0.0            1.0               1.0   \n",
      "3             0.0                1.0            0.0               0.0   \n",
      "4             0.0                1.0            0.0               1.0   \n",
      "\n",
      "   ExerciseAngina_Y  ST_Slope_Down  ST_Slope_Flat  ST_Slope_Up  \n",
      "0               0.0            0.0            0.0          1.0  \n",
      "1               0.0            0.0            1.0          0.0  \n",
      "2               0.0            0.0            0.0          1.0  \n",
      "3               1.0            0.0            1.0          0.0  \n",
      "4               0.0            0.0            0.0          1.0  \n",
      "\n",
      "[5 rows x 22 columns]\n"
     ]
    }
   ],
   "source": [
    "# Final feature list\n",
    "print(\"Final Feature List:\")\n",
    "print(feature_list)\n",
    "# Display the first few rows of the processed data\n",
    "print(\"Processed Training Data:\")\n",
    "print(data.head())"
   ]
  },
  {
   "cell_type": "markdown",
   "metadata": {},
   "source": [
    "## Model Training"
   ]
  },
  {
   "cell_type": "markdown",
   "metadata": {},
   "source": [
    "#### Split the data into training and testing sets"
   ]
  },
  {
   "cell_type": "code",
   "execution_count": 17,
   "metadata": {},
   "outputs": [],
   "source": [
    "# Split the data into training and testing sets\n",
    "from sklearn.model_selection import train_test_split\n",
    "\n",
    "# Ensure that `X` and `y` are already defined\n",
    "X = data.drop(columns=['HeartDisease'])  # Feature data\n",
    "y = data['HeartDisease']  # Target variable\n",
    "\n",
    "# Convert categorical variables into numerical variables\n",
    "X = pd.get_dummies(X, drop_first=True)\n",
    "\n",
    "# Divide the data into training and testing sets\n",
    "X_train, X_test, y_train, y_test = train_test_split(X, y, test_size=0.2, random_state=42)"
   ]
  },
  {
   "cell_type": "markdown",
   "metadata": {},
   "source": [
    "#### Recall parameter tuning"
   ]
  },
  {
   "cell_type": "code",
   "execution_count": 18,
   "metadata": {},
   "outputs": [
    {
     "name": "stdout",
     "output_type": "stream",
     "text": [
      "Best parameters for Recall Rate: {'max_depth': 10, 'max_features': 'sqrt', 'min_samples_leaf': 1, 'min_samples_split': 5, 'n_estimators': 100}\n",
      "Best Recall Rate Score (CV): 0.9177469135802468\n"
     ]
    },
    {
     "name": "stderr",
     "output_type": "stream",
     "text": [
      "/opt/anaconda3/lib/python3.12/site-packages/numpy/ma/core.py:2820: RuntimeWarning: invalid value encountered in cast\n",
      "  _data = np.array(data, dtype=dtype, copy=copy,\n"
     ]
    }
   ],
   "source": [
    "# Recall parameter tuning\n",
    "from sklearn.ensemble import RandomForestClassifier\n",
    "from sklearn.model_selection import GridSearchCV\n",
    "from sklearn.metrics import recall_score\n",
    "\n",
    "# Define the parameter grid\n",
    "param_grid_recall = {\n",
    "    'n_estimators': [50, 100, 200],\n",
    "    'max_depth': [5, 10, 20], \n",
    "    'min_samples_split': [2, 5, 10],  \n",
    "    'min_samples_leaf': [1, 2, 4],  \n",
    "    'max_features': ['sqrt', 'log2']  \n",
    "}\n",
    "\n",
    "# Initialize the Random Forest model with class balancing\n",
    "rf_recall = RandomForestClassifier(random_state=42, class_weight='balanced')\n",
    "\n",
    "# Define the grid search\n",
    "grid_search_recall = GridSearchCV(\n",
    "    estimator=rf_recall,\n",
    "    param_grid=param_grid_recall,\n",
    "    scoring='recall',  # Use recall as the evaluation metric\n",
    "    cv=5,  # Perform 5-fold cross-validation\n",
    "    n_jobs=-1  # Use all available processors\n",
    ")\n",
    "\n",
    "# Train the model\n",
    "grid_search_recall.fit(X_train, y_train)\n",
    "\n",
    "# Output the best parameters and evaluation results\n",
    "print(\"Best parameters for Recall Rate:\", grid_search_recall.best_params_)\n",
    "print(\"Best Recall Rate Score (CV):\", grid_search_recall.best_score_)"
   ]
  },
  {
   "cell_type": "code",
   "execution_count": 20,
   "metadata": {},
   "outputs": [
    {
     "name": "stdout",
     "output_type": "stream",
     "text": [
      "Classification Report for Recall Rate Optimized Model:\n",
      "              precision    recall  f1-score   support\n",
      "\n",
      "           0       0.86      0.88      0.87        77\n",
      "           1       0.91      0.90      0.91       107\n",
      "\n",
      "    accuracy                           0.89       184\n",
      "   macro avg       0.89      0.89      0.89       184\n",
      "weighted avg       0.89      0.89      0.89       184\n",
      "\n",
      "\n",
      "Comprehensive Metrics:\n",
      "Accuracy: 0.8913\n",
      "Precision: 0.9143\n",
      "Recall: 0.8972\n",
      "F1 Score: 0.9057\n",
      "ROC-AUC: 0.9474\n"
     ]
    }
   ],
   "source": [
    "from sklearn.ensemble import RandomForestClassifier\n",
    "from sklearn.metrics import classification_report, accuracy_score, precision_score, recall_score, f1_score, roc_auc_score\n",
    "\n",
    "# Use the best parameters from Recall Rate optimization\n",
    "best_params_recall = {'max_depth': 10, 'max_features': 'sqrt', 'min_samples_leaf': 1, 'min_samples_split': 5, 'n_estimators': 100}\n",
    "\n",
    "# Build the model\n",
    "model_recall = RandomForestClassifier(\n",
    "    max_depth=best_params_recall['max_depth'],  # Maximum depth of the tree\n",
    "    max_features=best_params_recall['max_features'],  # Number of features to consider for the best split\n",
    "    min_samples_leaf=best_params_recall['min_samples_leaf'],  # Minimum samples required at a leaf node\n",
    "    min_samples_split=best_params_recall['min_samples_split'],  # Minimum samples required to split a node\n",
    "    n_estimators=best_params_recall['n_estimators'],  # Number of trees in the forest\n",
    "    random_state=42,  # Random seed for reproducibility\n",
    "    class_weight='balanced'  # Handle imbalanced data by balancing class weights\n",
    ")\n",
    "\n",
    "# Train the model\n",
    "model_recall.fit(X_train, y_train)\n",
    "\n",
    "# Evaluate the model on the test set\n",
    "y_pred_recall = model_recall.predict(X_test)  # Predicted classes\n",
    "y_pred_proba_recall = model_recall.predict_proba(X_test)[:, 1]  # Predicted probabilities for the positive class\n",
    "\n",
    "# Output the classification report\n",
    "print(\"Classification Report for Recall Rate Optimized Model:\")\n",
    "print(classification_report(y_test, y_pred_recall))\n",
    "\n",
    "# Calculate and output comprehensive metrics\n",
    "accuracy = accuracy_score(y_test, y_pred_recall)  # Accuracy of the model\n",
    "precision = precision_score(y_test, y_pred_recall)  # Precision of the model\n",
    "recall = recall_score(y_test, y_pred_recall)  # Recall of the model\n",
    "f1 = f1_score(y_test, y_pred_recall)  # F1 score of the model\n",
    "roc_auc = roc_auc_score(y_test, y_pred_proba_recall)  # ROC-AUC score for probabilistic predictions\n",
    "\n",
    "print(\"\\nComprehensive Metrics:\")\n",
    "print(f\"Accuracy: {accuracy:.4f}\")\n",
    "print(f\"Precision: {precision:.4f}\")\n",
    "print(f\"Recall: {recall:.4f}\")\n",
    "print(f\"F1 Score: {f1:.4f}\")\n",
    "print(f\"ROC-AUC: {roc_auc:.4f}\")"
   ]
  },
  {
   "cell_type": "markdown",
   "metadata": {},
   "source": [
    "### Feature Importance Analysis"
   ]
  },
  {
   "cell_type": "code",
   "execution_count": 26,
   "metadata": {},
   "outputs": [
    {
     "name": "stdout",
     "output_type": "stream",
     "text": [
      "Feature Importances:\n",
      "              Feature  Importance\n",
      "20        ST_Slope_Up    0.143207\n",
      "19      ST_Slope_Flat    0.105502\n",
      "2         Cholesterol    0.092702\n",
      "4             Oldpeak    0.090207\n",
      "17   ExerciseAngina_Y    0.087352\n",
      "3               MaxHR    0.078923\n",
      "16   ExerciseAngina_N    0.077470\n",
      "7   ChestPainType_ASY    0.066619\n",
      "0                 Age    0.063591\n",
      "1           RestingBP    0.049866\n",
      "6               Sex_M    0.028524\n",
      "5               Sex_F    0.018800\n",
      "8   ChestPainType_ATA    0.018288\n",
      "11        FastingBS_0    0.015261\n",
      "12        FastingBS_1    0.013431\n",
      "9   ChestPainType_NAP    0.011476\n",
      "13     RestingECG_LVH    0.009384\n",
      "14  RestingECG_Normal    0.008831\n",
      "15      RestingECG_ST    0.008324\n",
      "18      ST_Slope_Down    0.007715\n",
      "10   ChestPainType_TA    0.004529\n"
     ]
    },
    {
     "data": {
      "image/png": "[encoded data removed]",
      "text/plain": [
       "<Figure size 1000x600 with 1 Axes>"
      ]
     },
     "metadata": {},
     "output_type": "display_data"
    }
   ],
   "source": [
    "import matplotlib.pyplot as plt\n",
    "import numpy as np\n",
    "\n",
    "# Get feature importances\n",
    "feature_importances = model_recall.feature_importances_  # Extract feature importance scores\n",
    "feature_names = X_train.columns  # Get feature names from training data\n",
    "\n",
    "# Combine features and their importance into a DataFrame\n",
    "importance_df = pd.DataFrame({\n",
    "    'Feature': feature_names,  # Feature names\n",
    "    'Importance': feature_importances  # Corresponding importance scores\n",
    "})\n",
    "\n",
    "# Sort the DataFrame by importance in descending order\n",
    "importance_df = importance_df.sort_values(by='Importance', ascending=False)\n",
    "\n",
    "# Output the feature importance table\n",
    "print(\"Feature Importances:\")\n",
    "print(importance_df)\n",
    "\n",
    "# Visualize feature importances\n",
    "plt.figure(figsize=(10, 6))  # Set figure size\n",
    "plt.barh(importance_df['Feature'], importance_df['Importance'], color='skyblue')  # Horizontal bar chart\n",
    "plt.xlabel('Importance')  # Label for x-axis\n",
    "plt.ylabel('Feature')  # Label for y-axis\n",
    "plt.title('Feature Importances')  # Title of the chart\n",
    "plt.gca().invert_yaxis()  # Reverse the y-axis to show the most important features at the top\n",
    "plt.show()"
   ]
  },
  {
   "cell_type": "markdown",
   "metadata": {},
   "source": [
    "### Optimizing a Random Forest Classifier with a Custom Scoring Function"
   ]
  },
  {
   "cell_type": "code",
   "execution_count": 29,
   "metadata": {},
   "outputs": [
    {
     "name": "stdout",
     "output_type": "stream",
     "text": [
      "Best Parameters: {'max_depth': 10, 'max_features': 'sqrt', 'min_samples_leaf': 1, 'min_samples_split': 5, 'n_estimators': 100}\n",
      "Best Combined Score (CV): 0.9123005923340276\n",
      "\n",
      "Classification Report:\n",
      "              precision    recall  f1-score   support\n",
      "\n",
      "           0       0.86      0.88      0.87        77\n",
      "           1       0.91      0.90      0.91       107\n",
      "\n",
      "    accuracy                           0.89       184\n",
      "   macro avg       0.89      0.89      0.89       184\n",
      "weighted avg       0.89      0.89      0.89       184\n",
      "\n",
      "\n",
      "Test Metrics:\n",
      "Recall: 0.8972\n",
      "F1 Score: 0.9057\n",
      "ROC-AUC: 0.9474\n",
      "\n",
      "Feature Importances:\n",
      "              Feature  Importance\n",
      "20        ST_Slope_Up    0.143207\n",
      "19      ST_Slope_Flat    0.105502\n",
      "2         Cholesterol    0.092702\n",
      "4             Oldpeak    0.090207\n",
      "17   ExerciseAngina_Y    0.087352\n",
      "3               MaxHR    0.078923\n",
      "16   ExerciseAngina_N    0.077470\n",
      "7   ChestPainType_ASY    0.066619\n",
      "0                 Age    0.063591\n",
      "1           RestingBP    0.049866\n",
      "6               Sex_M    0.028524\n",
      "5               Sex_F    0.018800\n",
      "8   ChestPainType_ATA    0.018288\n",
      "11        FastingBS_0    0.015261\n",
      "12        FastingBS_1    0.013431\n",
      "9   ChestPainType_NAP    0.011476\n",
      "13     RestingECG_LVH    0.009384\n",
      "14  RestingECG_Normal    0.008831\n",
      "15      RestingECG_ST    0.008324\n",
      "18      ST_Slope_Down    0.007715\n",
      "10   ChestPainType_TA    0.004529\n"
     ]
    },
    {
     "name": "stderr",
     "output_type": "stream",
     "text": [
      "/opt/anaconda3/lib/python3.12/site-packages/numpy/ma/core.py:2820: RuntimeWarning: invalid value encountered in cast\n",
      "  _data = np.array(data, dtype=dtype, copy=copy,\n"
     ]
    },
    {
     "data": {
      "image/png": "[encoded data removed]",
      "text/plain": [
       "<Figure size 1000x600 with 1 Axes>"
      ]
     },
     "metadata": {},
     "output_type": "display_data"
    }
   ],
   "source": [
    "import numpy as np\n",
    "import pandas as pd\n",
    "from sklearn.ensemble import RandomForestClassifier\n",
    "from sklearn.metrics import recall_score, f1_score, roc_auc_score, classification_report\n",
    "from sklearn.model_selection import train_test_split, GridSearchCV\n",
    "\n",
    "# Prepare features (X) and target (y)\n",
    "X = data.drop(columns=['HeartDisease'])\n",
    "y = data['HeartDisease']\n",
    "\n",
    "# Convert categorical variables to dummy variables\n",
    "X = pd.get_dummies(X, drop_first=True)\n",
    "\n",
    "# Split the dataset into training and testing sets\n",
    "X_train, X_test, y_train, y_test = train_test_split(X, y, test_size=0.2, random_state=42)\n",
    "\n",
    "# Define a custom scoring function\n",
    "def custom_score(y_true, y_pred, y_proba):\n",
    "    \"\"\"\n",
    "    Custom scoring function that combines Recall, F1-score, and ROC-AUC.\n",
    "    Args:\n",
    "        y_true (array): True labels\n",
    "        y_pred (array): Predicted labels\n",
    "        y_proba (array): Predicted probabilities (for ROC-AUC)\n",
    "    Returns:\n",
    "        float: Weighted combined score\n",
    "    \"\"\"\n",
    "    # Calculate individual metrics\n",
    "    recall = recall_score(y_true, y_pred)\n",
    "    f1 = f1_score(y_true, y_pred)\n",
    "    roc_auc = roc_auc_score(y_true, y_proba)\n",
    "\n",
    "    # Define weights for each metric\n",
    "    w_recall = 0.4\n",
    "    w_f1 = 0.3\n",
    "    w_roc_auc = 0.3\n",
    "\n",
    "    # Combine metrics with weights\n",
    "    combined_score = w_recall * recall + w_f1 * f1 + w_roc_auc * roc_auc\n",
    "    return combined_score\n",
    "\n",
    "# Custom scorer for GridSearchCV\n",
    "class WeightedScorer:\n",
    "    def __init__(self, estimator=None):\n",
    "        self.estimator = estimator\n",
    "\n",
    "    def __call__(self, estimator, X, y):\n",
    "        y_pred = estimator.predict(X)\n",
    "        y_proba = estimator.predict_proba(X)[:, 1]  # Use probabilities for ROC-AUC\n",
    "        return custom_score(y, y_pred, y_proba)\n",
    "\n",
    "# Create a scorer instance\n",
    "custom_scorer = WeightedScorer()\n",
    "\n",
    "# Define the parameter grid for hyperparameter tuning\n",
    "param_grid = {\n",
    "    'n_estimators': [50, 100, 200],\n",
    "    'max_depth': [5, 10, 20],\n",
    "    'min_samples_split': [2, 5, 10],\n",
    "    'min_samples_leaf': [1, 2, 4],\n",
    "    'max_features': ['sqrt', 'log2']\n",
    "}\n",
    "\n",
    "# Initialize the Random Forest model\n",
    "rf_model = RandomForestClassifier(random_state=42, class_weight='balanced')\n",
    "\n",
    "# Create a GridSearchCV object with the custom scorer\n",
    "grid_search = GridSearchCV(\n",
    "    estimator=rf_model,\n",
    "    param_grid=param_grid,\n",
    "    scoring=custom_scorer,  # Use custom scorer\n",
    "    cv=5,\n",
    "    n_jobs=-1\n",
    ")\n",
    "\n",
    "# Fit the model using GridSearchCV\n",
    "grid_search.fit(X_train, y_train)\n",
    "\n",
    "# Get the best parameters and best score\n",
    "best_params = grid_search.best_params_\n",
    "best_score = grid_search.best_score_\n",
    "\n",
    "print(\"Best Parameters:\", best_params)\n",
    "print(\"Best Combined Score (CV):\", best_score)\n",
    "\n",
    "# Evaluate the best model on the test set\n",
    "best_model = grid_search.best_estimator_\n",
    "y_pred = best_model.predict(X_test)\n",
    "y_proba = best_model.predict_proba(X_test)[:, 1]\n",
    "\n",
    "# Classification report and metrics\n",
    "print(\"\\nClassification Report:\")\n",
    "print(classification_report(y_test, y_pred))\n",
    "\n",
    "# Calculate individual metrics on the test set\n",
    "recall = recall_score(y_test, y_pred)\n",
    "f1 = f1_score(y_test, y_pred)\n",
    "roc_auc = roc_auc_score(y_test, y_proba)\n",
    "\n",
    "print(\"\\nTest Metrics:\")\n",
    "print(f\"Recall: {recall:.4f}\")\n",
    "print(f\"F1 Score: {f1:.4f}\")\n",
    "print(f\"ROC-AUC: {roc_auc:.4f}\")\n",
    "\n",
    "# Feature importance analysis\n",
    "feature_importances = best_model.feature_importances_\n",
    "importance_df = pd.DataFrame({\n",
    "    'Feature': X.columns,\n",
    "    'Importance': feature_importances\n",
    "}).sort_values(by='Importance', ascending=False)\n",
    "\n",
    "print(\"\\nFeature Importances:\")\n",
    "print(importance_df)\n",
    "\n",
    "# Visualize feature importances\n",
    "import matplotlib.pyplot as plt\n",
    "\n",
    "plt.figure(figsize=(10, 6))\n",
    "plt.barh(importance_df['Feature'], importance_df['Importance'], color='skyblue')\n",
    "plt.xlabel('Importance')\n",
    "plt.ylabel('Feature')\n",
    "plt.title('Feature Importances')\n",
    "plt.gca().invert_yaxis()\n",
    "plt.show()"
   ]
  },
  {
   "cell_type": "markdown",
   "metadata": {},
   "source": []
  }
 ],
 "metadata": {
  "kernelspec": {
   "display_name": "base",
   "language": "python",
   "name": "python3"
  },
  "language_info": {
   "codemirror_mode": {
    "name": "ipython",
    "version": 3
   },
   "file_extension": ".py",
   "mimetype": "text/x-python",
   "name": "python",
   "nbconvert_exporter": "python",
   "pygments_lexer": "ipython3",
   "version": "3.12.2"
  }
 },
 "nbformat": 4,
 "nbformat_minor": 2
}

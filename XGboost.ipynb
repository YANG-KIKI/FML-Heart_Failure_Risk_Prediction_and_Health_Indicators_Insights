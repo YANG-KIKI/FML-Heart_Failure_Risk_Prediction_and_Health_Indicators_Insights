{
  "cells": [
    {
      "cell_type": "markdown",
      "metadata": {
        "id": "IVANpVzwPn6P"
      },
      "source": [
        "# Predict a possible heart disease"
      ]
    },
    {
      "cell_type": "code",
      "execution_count": null,
      "metadata": {
        "colab": {
          "base_uri": "https://localhost:8080/"
        },
        "id": "0PDkOfyDPn6S",
        "outputId": "f939dab3-6836-46d1-ae4f-569b5150ac8a"
      },
      "outputs": [
        {
          "output_type": "stream",
          "name": "stdout",
          "text": [
            "Requirement already satisfied: scikit-learn in /usr/local/lib/python3.10/dist-packages (1.1.3)\n",
            "Requirement already satisfied: numpy>=1.17.3 in /usr/local/lib/python3.10/dist-packages (from scikit-learn) (1.26.4)\n",
            "Requirement already satisfied: scipy>=1.3.2 in /usr/local/lib/python3.10/dist-packages (from scikit-learn) (1.13.1)\n",
            "Requirement already satisfied: joblib>=1.0.0 in /usr/local/lib/python3.10/dist-packages (from scikit-learn) (1.4.2)\n",
            "Requirement already satisfied: threadpoolctl>=2.0.0 in /usr/local/lib/python3.10/dist-packages (from scikit-learn) (3.5.0)\n",
            "Requirement already satisfied: pandas in /usr/local/lib/python3.10/dist-packages (2.2.2)\n",
            "Requirement already satisfied: numpy in /usr/local/lib/python3.10/dist-packages (1.26.4)\n",
            "Requirement already satisfied: python-dateutil>=2.8.2 in /usr/local/lib/python3.10/dist-packages (from pandas) (2.8.2)\n",
            "Requirement already satisfied: pytz>=2020.1 in /usr/local/lib/python3.10/dist-packages (from pandas) (2024.2)\n",
            "Requirement already satisfied: tzdata>=2022.7 in /usr/local/lib/python3.10/dist-packages (from pandas) (2024.2)\n",
            "Requirement already satisfied: six>=1.5 in /usr/local/lib/python3.10/dist-packages (from python-dateutil>=2.8.2->pandas) (1.17.0)\n",
            "Requirement already satisfied: matplotlib in /usr/local/lib/python3.10/dist-packages (3.10.0)\n",
            "Requirement already satisfied: contourpy>=1.0.1 in /usr/local/lib/python3.10/dist-packages (from matplotlib) (1.3.1)\n",
            "Requirement already satisfied: cycler>=0.10 in /usr/local/lib/python3.10/dist-packages (from matplotlib) (0.12.1)\n",
            "Requirement already satisfied: fonttools>=4.22.0 in /usr/local/lib/python3.10/dist-packages (from matplotlib) (4.55.3)\n",
            "Requirement already satisfied: kiwisolver>=1.3.1 in /usr/local/lib/python3.10/dist-packages (from matplotlib) (1.4.8)\n",
            "Requirement already satisfied: numpy>=1.23 in /usr/local/lib/python3.10/dist-packages (from matplotlib) (1.26.4)\n",
            "Requirement already satisfied: packaging>=20.0 in /usr/local/lib/python3.10/dist-packages (from matplotlib) (24.2)\n",
            "Requirement already satisfied: pillow>=8 in /usr/local/lib/python3.10/dist-packages (from matplotlib) (11.1.0)\n",
            "Requirement already satisfied: pyparsing>=2.3.1 in /usr/local/lib/python3.10/dist-packages (from matplotlib) (3.2.1)\n",
            "Requirement already satisfied: python-dateutil>=2.7 in /usr/local/lib/python3.10/dist-packages (from matplotlib) (2.8.2)\n",
            "Requirement already satisfied: six>=1.5 in /usr/local/lib/python3.10/dist-packages (from python-dateutil>=2.7->matplotlib) (1.17.0)\n"
          ]
        }
      ],
      "source": [
        "!pip install scikit-learn\n",
        "!pip install pandas numpy\n",
        "!pip install --upgrade matplotlib"
      ]
    },
    {
      "cell_type": "code",
      "execution_count": null,
      "metadata": {
        "id": "B4rJXSO3Pn6U"
      },
      "outputs": [],
      "source": [
        "# Import necessary libraries\n",
        "import pandas as pd\n",
        "import numpy as np\n",
        "from sklearn.model_selection import train_test_split\n",
        "from sklearn.preprocessing import StandardScaler, OneHotEncoder\n",
        "from sklearn.compose import ColumnTransformer\n",
        "from sklearn.pipeline import Pipeline\n",
        "from sklearn.impute import SimpleImputer\n",
        "from sklearn.ensemble import RandomForestClassifier\n",
        "from sklearn.metrics import accuracy_score, classification_report\n",
        "from sklearn.metrics import log_loss"
      ]
    },
    {
      "cell_type": "code",
      "source": [
        "from google.colab import drive\n",
        "drive.mount('/content/drive')"
      ],
      "metadata": {
        "colab": {
          "base_uri": "https://localhost:8080/"
        },
        "id": "qP5iE5Y8P3rE",
        "outputId": "01d1f1ba-a142-4a55-eddc-1e7914ae189e"
      },
      "execution_count": null,
      "outputs": [
        {
          "output_type": "stream",
          "name": "stdout",
          "text": [
            "Drive already mounted at /content/drive; to attempt to forcibly remount, call drive.mount(\"/content/drive\", force_remount=True).\n"
          ]
        }
      ]
    },
    {
      "cell_type": "markdown",
      "metadata": {
        "id": "TNq16OQmPn6V"
      },
      "source": [
        "## Load The Dataset"
      ]
    },
    {
      "cell_type": "code",
      "execution_count": null,
      "metadata": {
        "id": "ue62S5jYPn6V"
      },
      "outputs": [],
      "source": [
        "# Load The Dataset\n",
        "data = pd.read_csv('/content/drive/My Drive/heart.csv')"
      ]
    },
    {
      "cell_type": "code",
      "execution_count": null,
      "metadata": {
        "colab": {
          "base_uri": "https://localhost:8080/"
        },
        "id": "udOiTfPKPn6V",
        "outputId": "d1e6ad27-77b0-43a8-b784-ed05cb552422"
      },
      "outputs": [
        {
          "output_type": "stream",
          "name": "stdout",
          "text": [
            "   Age Sex ChestPainType  RestingBP  Cholesterol  FastingBS RestingECG  MaxHR  \\\n",
            "0   40   M           ATA        140          289          0     Normal    172   \n",
            "1   49   F           NAP        160          180          0     Normal    156   \n",
            "2   37   M           ATA        130          283          0         ST     98   \n",
            "3   48   F           ASY        138          214          0     Normal    108   \n",
            "4   54   M           NAP        150          195          0     Normal    122   \n",
            "\n",
            "  ExerciseAngina  Oldpeak ST_Slope  HeartDisease  \n",
            "0              N      0.0       Up             0  \n",
            "1              N      1.0     Flat             1  \n",
            "2              N      0.0       Up             0  \n",
            "3              Y      1.5     Flat             1  \n",
            "4              N      0.0       Up             0  \n"
          ]
        }
      ],
      "source": [
        "# Basic Data Overview\n",
        "print(data.head())"
      ]
    },
    {
      "cell_type": "code",
      "execution_count": null,
      "metadata": {
        "colab": {
          "base_uri": "https://localhost:8080/"
        },
        "id": "1bNCMWHgPn6W",
        "outputId": "113781df-0bc2-4d82-cbd8-070698c99f5f"
      },
      "outputs": [
        {
          "output_type": "stream",
          "name": "stdout",
          "text": [
            "Missing values:\n",
            " Age               0\n",
            "Sex               0\n",
            "ChestPainType     0\n",
            "RestingBP         0\n",
            "Cholesterol       0\n",
            "FastingBS         0\n",
            "RestingECG        0\n",
            "MaxHR             0\n",
            "ExerciseAngina    0\n",
            "Oldpeak           0\n",
            "ST_Slope          0\n",
            "HeartDisease      0\n",
            "dtype: int64\n"
          ]
        }
      ],
      "source": [
        "# Checking for missing values\n",
        "print(\"Missing values:\\n\", data.isnull().sum())"
      ]
    },
    {
      "cell_type": "code",
      "execution_count": null,
      "metadata": {
        "colab": {
          "base_uri": "https://localhost:8080/"
        },
        "id": "2PubbmizPn6W",
        "outputId": "bab7e191-8838-487d-e763-60e39b66c711"
      },
      "outputs": [
        {
          "output_type": "stream",
          "name": "stdout",
          "text": [
            "0\n"
          ]
        }
      ],
      "source": [
        "# Check for duplicate data\n",
        "print(data.duplicated().sum())"
      ]
    },
    {
      "cell_type": "code",
      "execution_count": null,
      "metadata": {
        "colab": {
          "base_uri": "https://localhost:8080/"
        },
        "id": "6lnWLNj3Pn6W",
        "outputId": "e1211828-f92a-4a80-f180-115494def67f"
      },
      "outputs": [
        {
          "output_type": "stream",
          "name": "stdout",
          "text": [
            "<class 'pandas.core.frame.DataFrame'>\n",
            "RangeIndex: 918 entries, 0 to 917\n",
            "Data columns (total 12 columns):\n",
            " #   Column          Non-Null Count  Dtype  \n",
            "---  ------          --------------  -----  \n",
            " 0   Age             918 non-null    int64  \n",
            " 1   Sex             918 non-null    object \n",
            " 2   ChestPainType   918 non-null    object \n",
            " 3   RestingBP       918 non-null    int64  \n",
            " 4   Cholesterol     918 non-null    int64  \n",
            " 5   FastingBS       918 non-null    int64  \n",
            " 6   RestingECG      918 non-null    object \n",
            " 7   MaxHR           918 non-null    int64  \n",
            " 8   ExerciseAngina  918 non-null    object \n",
            " 9   Oldpeak         918 non-null    float64\n",
            " 10  ST_Slope        918 non-null    object \n",
            " 11  HeartDisease    918 non-null    int64  \n",
            "dtypes: float64(1), int64(6), object(5)\n",
            "memory usage: 86.2+ KB\n",
            "None\n"
          ]
        }
      ],
      "source": [
        "# View basic information\n",
        "print(data.info())"
      ]
    },
    {
      "cell_type": "markdown",
      "metadata": {
        "id": "cYb0ynEcPn6X"
      },
      "source": [
        "## Feature Engineering"
      ]
    },
    {
      "cell_type": "code",
      "execution_count": null,
      "metadata": {
        "id": "3lAge2XyPn6X"
      },
      "outputs": [],
      "source": [
        "# Define categorical and numerical columns\n",
        "categorical_cols = ['Sex', 'ChestPainType', 'FastingBS', 'RestingECG', 'ExerciseAngina', 'ST_Slope']\n",
        "numerical_cols = ['Age', 'RestingBP', 'Cholesterol', 'MaxHR', 'Oldpeak']"
      ]
    },
    {
      "cell_type": "code",
      "execution_count": null,
      "metadata": {
        "id": "EDjykfiIPn6X"
      },
      "outputs": [],
      "source": [
        "# Convert FastingBS to string (categorical type)\n",
        "data['FastingBS'] = data['FastingBS'].astype(str)"
      ]
    },
    {
      "cell_type": "code",
      "execution_count": null,
      "metadata": {
        "colab": {
          "base_uri": "https://localhost:8080/"
        },
        "id": "KnBySK9QPn6Y",
        "outputId": "dd036882-f0ab-4519-d2f4-9c279c5c32cf"
      },
      "outputs": [
        {
          "output_type": "stream",
          "name": "stdout",
          "text": [
            "object\n"
          ]
        }
      ],
      "source": [
        "# Verify the change\n",
        "print(data['FastingBS'].dtypes)"
      ]
    },
    {
      "cell_type": "code",
      "source": [
        "from sklearn.preprocessing import OneHotEncoder\n",
        "import pandas as pd"
      ],
      "metadata": {
        "id": "mPqYmT-4U55L"
      },
      "execution_count": null,
      "outputs": []
    },
    {
      "source": [
        "# Initialize the OneHotEncoder without sparse_output\n",
        "encoder = OneHotEncoder(handle_unknown='ignore') # Remove sparse_output argument\n",
        "\n",
        "# Apply one-hot encoding to the categorical columns\n",
        "encoded_categorical = encoder.fit_transform(data[categorical_cols])\n",
        "\n",
        "#Check if the encoded_categorical is sparse, if so, convert to dense array\n",
        "encoded_categorical = encoded_categorical.toarray() if hasattr(encoded_categorical, \"toarray\") else encoded_categorical\n",
        "\n",
        "\n",
        "# Create a DataFrame with the encoded features\n",
        "encoded_df = pd.DataFrame(encoded_categorical, columns=encoder.get_feature_names_out(categorical_cols), index=data.index)\n",
        "\n",
        "# Drop the original categorical columns from the dataset\n",
        "data.drop(columns=categorical_cols, inplace=True)\n",
        "\n",
        "# Combine the encoded features with the original dataset\n",
        "data = pd.concat([data, encoded_df], axis=1)"
      ],
      "cell_type": "code",
      "metadata": {
        "id": "x9Ay6h7ZVEcd"
      },
      "execution_count": null,
      "outputs": []
    },
    {
      "cell_type": "code",
      "execution_count": null,
      "metadata": {
        "colab": {
          "base_uri": "https://localhost:8080/"
        },
        "id": "WBf1OdE2Pn6Z",
        "outputId": "4cc1adeb-1c41-448e-852f-e6f177e44162"
      },
      "outputs": [
        {
          "output_type": "stream",
          "name": "stdout",
          "text": [
            "Feature List: ['Age', 'RestingBP', 'Cholesterol', 'MaxHR', 'Oldpeak', 'Sex_F', 'Sex_M', 'ChestPainType_ASY', 'ChestPainType_ATA', 'ChestPainType_NAP', 'ChestPainType_TA', 'FastingBS_0', 'FastingBS_1', 'RestingECG_LVH', 'RestingECG_Normal', 'RestingECG_ST', 'ExerciseAngina_N', 'ExerciseAngina_Y', 'ST_Slope_Down', 'ST_Slope_Flat', 'ST_Slope_Up']\n"
          ]
        }
      ],
      "source": [
        "# Drop the target variable 'HeartDisease' and create a feature list\n",
        "feature_list = data.drop(columns=['HeartDisease']).columns.tolist()\n",
        "\n",
        "# Print the feature list\n",
        "print(\"Feature List:\", feature_list)"
      ]
    },
    {
      "cell_type": "code",
      "execution_count": null,
      "metadata": {
        "id": "QLjNcTDzPn6Z"
      },
      "outputs": [],
      "source": [
        "# Initialize the standardization tool\n",
        "scaler = StandardScaler()\n",
        "\n",
        "# Standardize the numerical features\n",
        "data[numerical_cols] = scaler.fit_transform(data[numerical_cols])\n"
      ]
    },
    {
      "cell_type": "code",
      "execution_count": null,
      "metadata": {
        "colab": {
          "base_uri": "https://localhost:8080/"
        },
        "id": "3ujb3gMQPn6Z",
        "outputId": "8ce718b2-897e-4ba9-c636-d5bca9783230"
      },
      "outputs": [
        {
          "output_type": "stream",
          "name": "stdout",
          "text": [
            "\n",
            "Numerical columns mean and standard deviation after scaling:\n",
            "Means (should be approximately 0):\n",
            "Age           -1.083616e-16\n",
            "RestingBP      1.954380e-16\n",
            "Cholesterol    0.000000e+00\n",
            "MaxHR          4.953675e-16\n",
            "Oldpeak        1.238419e-16\n",
            "dtype: float64\n",
            "\n",
            "Standard deviations (should be approximately 1):\n",
            "Age            1.000545\n",
            "RestingBP      1.000545\n",
            "Cholesterol    1.000545\n",
            "MaxHR          1.000545\n",
            "Oldpeak        1.000545\n",
            "dtype: float64\n"
          ]
        }
      ],
      "source": [
        "# Verify the results of standardization\n",
        "print(\"\\nNumerical columns mean and standard deviation after scaling:\")\n",
        "print(\"Means (should be approximately 0):\")\n",
        "print(data[numerical_cols].mean())\n",
        "print(\"\\nStandard deviations (should be approximately 1):\")\n",
        "print(data[numerical_cols].std())\n"
      ]
    },
    {
      "cell_type": "code",
      "execution_count": null,
      "metadata": {
        "colab": {
          "base_uri": "https://localhost:8080/"
        },
        "id": "uJ78-rShPn6Z",
        "outputId": "48c3b386-7c16-4341-c1ba-e20a9404f556"
      },
      "outputs": [
        {
          "output_type": "stream",
          "name": "stdout",
          "text": [
            "Final Feature List:\n",
            "['Age', 'RestingBP', 'Cholesterol', 'MaxHR', 'Oldpeak', 'Sex_F', 'Sex_M', 'ChestPainType_ASY', 'ChestPainType_ATA', 'ChestPainType_NAP', 'ChestPainType_TA', 'FastingBS_0', 'FastingBS_1', 'RestingECG_LVH', 'RestingECG_Normal', 'RestingECG_ST', 'ExerciseAngina_N', 'ExerciseAngina_Y', 'ST_Slope_Down', 'ST_Slope_Flat', 'ST_Slope_Up']\n",
            "Processed Training Data:\n",
            "        Age  RestingBP  Cholesterol     MaxHR   Oldpeak  HeartDisease  Sex_F  \\\n",
            "0 -1.433140   0.410909     0.825070  1.382928 -0.832432             0    0.0   \n",
            "1 -0.478484   1.491752    -0.171961  0.754157  0.105664             1    1.0   \n",
            "2 -1.751359  -0.129513     0.770188 -1.525138 -0.832432             0    0.0   \n",
            "3 -0.584556   0.302825     0.139040 -1.132156  0.574711             1    1.0   \n",
            "4  0.051881   0.951331    -0.034755 -0.581981 -0.832432             0    0.0   \n",
            "\n",
            "   Sex_M  ChestPainType_ASY  ChestPainType_ATA  ...  FastingBS_0  FastingBS_1  \\\n",
            "0    1.0                0.0                1.0  ...          1.0          0.0   \n",
            "1    0.0                0.0                0.0  ...          1.0          0.0   \n",
            "2    1.0                0.0                1.0  ...          1.0          0.0   \n",
            "3    0.0                1.0                0.0  ...          1.0          0.0   \n",
            "4    1.0                0.0                0.0  ...          1.0          0.0   \n",
            "\n",
            "   RestingECG_LVH  RestingECG_Normal  RestingECG_ST  ExerciseAngina_N  \\\n",
            "0             0.0                1.0            0.0               1.0   \n",
            "1             0.0                1.0            0.0               1.0   \n",
            "2             0.0                0.0            1.0               1.0   \n",
            "3             0.0                1.0            0.0               0.0   \n",
            "4             0.0                1.0            0.0               1.0   \n",
            "\n",
            "   ExerciseAngina_Y  ST_Slope_Down  ST_Slope_Flat  ST_Slope_Up  \n",
            "0               0.0            0.0            0.0          1.0  \n",
            "1               0.0            0.0            1.0          0.0  \n",
            "2               0.0            0.0            0.0          1.0  \n",
            "3               1.0            0.0            1.0          0.0  \n",
            "4               0.0            0.0            0.0          1.0  \n",
            "\n",
            "[5 rows x 22 columns]\n"
          ]
        }
      ],
      "source": [
        "# Final feature list\n",
        "print(\"Final Feature List:\")\n",
        "print(feature_list)\n",
        "# Display the first few rows of the processed data\n",
        "print(\"Processed Training Data:\")\n",
        "print(data.head())"
      ]
    },
    {
      "cell_type": "markdown",
      "metadata": {
        "id": "Catt7jwrPn6a"
      },
      "source": [
        "## Model Training"
      ]
    },
    {
      "cell_type": "code",
      "source": [
        "pip install --upgrade xgboost scikit-learn"
      ],
      "metadata": {
        "colab": {
          "base_uri": "https://localhost:8080/"
        },
        "id": "lyuLUHNDTYws",
        "outputId": "cb342d42-79e3-422b-9a87-d79cbfe112b0"
      },
      "execution_count": null,
      "outputs": [
        {
          "output_type": "stream",
          "name": "stdout",
          "text": [
            "Requirement already satisfied: xgboost in /usr/local/lib/python3.10/dist-packages (2.1.3)\n",
            "Requirement already satisfied: scikit-learn in /usr/local/lib/python3.10/dist-packages (1.1.3)\n",
            "Collecting scikit-learn\n",
            "  Using cached scikit_learn-1.6.1-cp310-cp310-manylinux_2_17_x86_64.manylinux2014_x86_64.whl.metadata (18 kB)\n",
            "Requirement already satisfied: numpy in /usr/local/lib/python3.10/dist-packages (from xgboost) (1.26.4)\n",
            "Requirement already satisfied: nvidia-nccl-cu12 in /usr/local/lib/python3.10/dist-packages (from xgboost) (2.24.3)\n",
            "Requirement already satisfied: scipy in /usr/local/lib/python3.10/dist-packages (from xgboost) (1.13.1)\n",
            "Requirement already satisfied: joblib>=1.2.0 in /usr/local/lib/python3.10/dist-packages (from scikit-learn) (1.4.2)\n",
            "Requirement already satisfied: threadpoolctl>=3.1.0 in /usr/local/lib/python3.10/dist-packages (from scikit-learn) (3.5.0)\n",
            "Using cached scikit_learn-1.6.1-cp310-cp310-manylinux_2_17_x86_64.manylinux2014_x86_64.whl (13.5 MB)\n",
            "Installing collected packages: scikit-learn\n",
            "  Attempting uninstall: scikit-learn\n",
            "    Found existing installation: scikit-learn 1.1.3\n",
            "    Uninstalling scikit-learn-1.1.3:\n",
            "      Successfully uninstalled scikit-learn-1.1.3\n",
            "Successfully installed scikit-learn-1.6.1\n"
          ]
        }
      ]
    },
    {
      "cell_type": "code",
      "execution_count": null,
      "metadata": {
        "id": "xF_NM1T-Pn6b"
      },
      "outputs": [],
      "source": [
        "# Step 1: Import library\n",
        "import xgboost as xgb\n",
        "from xgboost import XGBClassifier\n",
        "from sklearn.model_selection import train_test_split, GridSearchCV\n",
        "from sklearn.metrics import classification_report, f1_score"
      ]
    },
    {
      "cell_type": "code",
      "source": [
        "from sklearn.model_selection import train_test_split\n",
        "\n",
        "# Make sure `X` and `y` are defined\n",
        "X = data.drop(columns=['HeartDisease'])  # feature data\n",
        "y = data['HeartDisease']  # target variable\n",
        "\n",
        "# Split training set and test set\n",
        "X_train, X_test, y_train, y_test = train_test_split(X, y, test_size=0.2, random_state=42)"
      ],
      "metadata": {
        "id": "EpIiSi3IRCtm"
      },
      "execution_count": null,
      "outputs": []
    },
    {
      "cell_type": "code",
      "source": [
        "from xgboost import XGBClassifier\n",
        "from sklearn.model_selection import GridSearchCV\n",
        "\n",
        "# Step 1: Initialize XGBoost model\n",
        "xgb_model = XGBClassifier(\n",
        "    objective='binary:logistic',\n",
        "    eval_metric='logloss',\n",
        "    use_label_encoder=False,\n",
        "    random_state=42\n",
        ")\n",
        "\n",
        "# Step 2: Define parameter grid (contains scale_pos_weight parameter)\n",
        "num_negative = sum(y_train == 0)\n",
        "num_positive = sum(y_train == 1)\n",
        "\n",
        "param_grid = {\n",
        "    'n_estimators': [50, 100, 150],\n",
        "    'learning_rate': [0.01, 0.05, 0.1],\n",
        "    'max_depth': [3, 5, 7],\n",
        "    'min_child_weight': [1, 3, 5],\n",
        "    'gamma': [0, 0.1, 0.2],\n",
        "    'subsample': [0.8, 1.0],\n",
        "    'colsample_bytree': [0.8, 1.0],\n",
        "    'reg_alpha': [0, 0.1, 0.5],\n",
        "    'reg_lambda': [1, 5, 10],\n",
        "    'scale_pos_weight': [1, num_negative / num_positive]  # Consider class imbalance\n",
        "}\n",
        "\n",
        "# Step 3: Hyperparameter tuning using GridSearchCV\n",
        "grid_search = GridSearchCV(\n",
        "    estimator=xgb_model,\n",
        "    param_grid=param_grid,\n",
        "    scoring='recall',  # Use Recall as an evaluation metric\n",
        "    cv=5,              # 5 fold cross validation\n",
        "    verbose=1,\n",
        "    n_jobs=-1          # Run in parallel\n",
        ")\n",
        "\n",
        "# Step 4: model training\n",
        "grid_search.fit(X_train, y_train)\n",
        "\n",
        "# Output the best parameters\n",
        "print(\"Best Parameters:\", grid_search.best_params_)"
      ],
      "metadata": {
        "colab": {
          "base_uri": "https://localhost:8080/"
        },
        "id": "LiVcyG13THY7",
        "outputId": "08d27fb3-f484-4a5a-c895-a3faf623fedb"
      },
      "execution_count": null,
      "outputs": [
        {
          "output_type": "stream",
          "name": "stdout",
          "text": [
            "Fitting 5 folds for each of 17496 candidates, totalling 87480 fits\n",
            "Best Parameters: {'colsample_bytree': 0.8, 'gamma': 0, 'learning_rate': 0.01, 'max_depth': 3, 'min_child_weight': 1, 'n_estimators': 50, 'reg_alpha': 0, 'reg_lambda': 10, 'scale_pos_weight': 1, 'subsample': 1.0}\n"
          ]
        },
        {
          "output_type": "stream",
          "name": "stderr",
          "text": [
            "/usr/local/lib/python3.10/dist-packages/xgboost/core.py:158: UserWarning: [18:53:25] WARNING: /workspace/src/learner.cc:740: \n",
            "Parameters: { \"use_label_encoder\" } are not used.\n",
            "\n",
            "  warnings.warn(smsg, UserWarning)\n"
          ]
        }
      ]
    },
    {
      "cell_type": "code",
      "source": [
        "from sklearn.metrics import accuracy_score, precision_score, recall_score, f1_score, roc_auc_score\n",
        "# Train the model using optimal parameters\n",
        "best_params = {\n",
        "    'colsample_bytree': 0.8,\n",
        "    'gamma': 0,\n",
        "    'learning_rate': 0.01,\n",
        "    'max_depth': 3,\n",
        "    'min_child_weight': 1,\n",
        "    'n_estimators': 50,\n",
        "    'reg_alpha': 0,\n",
        "    'reg_lambda': 10,\n",
        "    'scale_pos_weight': 1,\n",
        "    'subsample': 1.0\n",
        "}\n",
        "\n",
        "final_model = XGBClassifier(\n",
        "    objective='binary:logistic',\n",
        "    eval_metric='logloss',\n",
        "    use_label_encoder=False,\n",
        "    random_state=42,\n",
        "    **best_params  # Unpack the best parameters\n",
        ")\n",
        "\n",
        "# Training model\n",
        "final_model.fit(X_train, y_train)\n",
        "\n",
        "# test model\n",
        "y_pred_recall = final_model.predict(X_test)\n",
        "y_pred_proba = final_model.predict_proba(X_test)[:, 1]\n",
        "\n",
        "# Output classification report\n",
        "print(\"Classification Report for Recall Rate Optimized Model:\")\n",
        "print(classification_report(y_test, y_pred_recall))\n",
        "\n",
        "# Calculate various indicators\n",
        "accuracy = accuracy_score(y_test, y_pred_recall)\n",
        "precision = precision_score(y_test, y_pred_recall)\n",
        "recall = recall_score(y_test, y_pred_recall)\n",
        "f1 = f1_score(y_test, y_pred_recall)\n",
        "roc_auc = roc_auc_score(y_test, y_pred_proba)\n",
        "\n",
        "# Output results\n",
        "print(\"\\nComprehensive Metrics:\")\n",
        "print(f\"Accuracy: {accuracy:.4f}\")\n",
        "print(f\"Precision: {precision:.4f}\")\n",
        "print(f\"Recall: {recall:.4f}\")\n",
        "print(f\"F1 Score: {f1:.4f}\")\n",
        "print(f\"ROC-AUC: {roc_auc:.4f}\")"
      ],
      "metadata": {
        "colab": {
          "base_uri": "https://localhost:8080/"
        },
        "id": "uidicjhvva0Q",
        "outputId": "9ca4bc0e-5ef5-4418-f4a7-add0890bc287"
      },
      "execution_count": null,
      "outputs": [
        {
          "output_type": "stream",
          "name": "stdout",
          "text": [
            "Classification Report for Recall Rate Optimized Model:\n",
            "              precision    recall  f1-score   support\n",
            "\n",
            "           0       0.86      0.73      0.79        77\n",
            "           1       0.82      0.92      0.87       107\n",
            "\n",
            "    accuracy                           0.84       184\n",
            "   macro avg       0.84      0.82      0.83       184\n",
            "weighted avg       0.84      0.84      0.83       184\n",
            "\n",
            "\n",
            "Comprehensive Metrics:\n",
            "Accuracy: 0.8370\n",
            "Precision: 0.8235\n",
            "Recall: 0.9159\n",
            "F1 Score: 0.8673\n",
            "ROC-AUC: 0.9272\n"
          ]
        },
        {
          "output_type": "stream",
          "name": "stderr",
          "text": [
            "/usr/local/lib/python3.10/dist-packages/xgboost/core.py:158: UserWarning: [19:06:56] WARNING: /workspace/src/learner.cc:740: \n",
            "Parameters: { \"use_label_encoder\" } are not used.\n",
            "\n",
            "  warnings.warn(smsg, UserWarning)\n"
          ]
        }
      ]
    },
    {
      "cell_type": "code",
      "source": [
        "import matplotlib.pyplot as plt\n",
        "from xgboost import XGBClassifier, plot_importance\n",
        "\n",
        "# Get feature importance\n",
        "importance = final_model.get_booster().get_score(importance_type='weight')\n",
        "\n",
        "# Sort feature importance in descending order\n",
        "sorted_importance = sorted(importance.items(), key=lambda x: x[1], reverse=True)\n",
        "\n",
        "# Visualize feature importance (Top 10 Features)\n",
        "plt.figure(figsize=(10, 8))\n",
        "plot_importance(final_model, importance_type='weight', max_num_features=10)\n",
        "plt.title(\"Feature Importance (Top 10)\")\n",
        "plt.show()"
      ],
      "metadata": {
        "colab": {
          "base_uri": "https://localhost:8080/",
          "height": 489
        },
        "id": "ABoO3w1y3Rqb",
        "outputId": "69821bc4-8991-40ef-b916-509a216d3315"
      },
      "execution_count": null,
      "outputs": [
        {
          "output_type": "display_data",
          "data": {
            "text/plain": [
              "<Figure size 1000x800 with 0 Axes>"
            ]
          },
          "metadata": {}
        },
        {
          "output_type": "display_data",
          "data": {
            "text/plain": [
              "<Figure size 640x480 with 1 Axes>"
            ],
            "image/png": "[encoded data removed]"
          },
          "metadata": {}
        }
      ]
    }
  ],
  "metadata": {
    "kernelspec": {
      "display_name": "Python 3",
      "language": "python",
      "name": "python3"
    },
    "language_info": {
      "codemirror_mode": {
        "name": "ipython",
        "version": 3
      },
      "file_extension": ".py",
      "mimetype": "text/x-python",
      "name": "python",
      "nbconvert_exporter": "python",
      "pygments_lexer": "ipython3",
      "version": "3.12.2"
    },
    "colab": {
      "provenance": []
    }
  },
  "nbformat": 4,
  "nbformat_minor": 0
}